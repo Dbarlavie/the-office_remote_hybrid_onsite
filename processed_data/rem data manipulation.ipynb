{
 "cells": [
  {
   "cell_type": "code",
   "execution_count": 1,
   "id": "cac37afb",
   "metadata": {},
   "outputs": [],
   "source": [
    "import pandas as pd\n",
    "import numpy as np\n",
    "pd.set_option('display.max_columns',None)\n",
    "from sklearn.model_selection import train_test_split\n",
    "from sklearn.preprocessing import MinMaxScaler\n",
    "from sklearn.preprocessing import OneHotEncoder"
   ]
  },
  {
   "cell_type": "code",
   "execution_count": 2,
   "id": "63bb2bab",
   "metadata": {},
   "outputs": [
    {
     "data": {
      "text/plain": [
       "(64075, 24)"
      ]
     },
     "execution_count": 2,
     "metadata": {},
     "output_type": "execute_result"
    }
   ],
   "source": [
    "rem= pd.read_csv('rem.csv')\n",
    "rem.shape"
   ]
  },
  {
   "cell_type": "code",
   "execution_count": 3,
   "id": "7a1cf591",
   "metadata": {},
   "outputs": [
    {
     "data": {
      "text/html": [
       "<div>\n",
       "<style scoped>\n",
       "    .dataframe tbody tr th:only-of-type {\n",
       "        vertical-align: middle;\n",
       "    }\n",
       "\n",
       "    .dataframe tbody tr th {\n",
       "        vertical-align: top;\n",
       "    }\n",
       "\n",
       "    .dataframe thead th {\n",
       "        text-align: right;\n",
       "    }\n",
       "</style>\n",
       "<table border=\"1\" class=\"dataframe\">\n",
       "  <thead>\n",
       "    <tr style=\"text-align: right;\">\n",
       "      <th></th>\n",
       "      <th>agebin</th>\n",
       "      <th>education_s</th>\n",
       "      <th>iincomebin</th>\n",
       "      <th>work_industry</th>\n",
       "      <th>gender_d</th>\n",
       "      <th>wfh_days_postCOVID_ss</th>\n",
       "      <th>wfh_days_postCOVID_boss_ss</th>\n",
       "      <th>workstatus_current_new</th>\n",
       "      <th>wfh_top3benefits_commute</th>\n",
       "      <th>wfh_top3benefits_groom</th>\n",
       "      <th>wfh_top3benefits_flex</th>\n",
       "      <th>wfh_top3benefits_meetings</th>\n",
       "      <th>wfh_top3benefits_quiet</th>\n",
       "      <th>wfh_top3benefits_family</th>\n",
       "      <th>wfh_top3benefits_other</th>\n",
       "      <th>wbp_top3benefits_collab</th>\n",
       "      <th>wbp_top3benefits_social</th>\n",
       "      <th>wbp_top3benefits_facetime</th>\n",
       "      <th>wbp_top3benefits_equip</th>\n",
       "      <th>wbp_top3benefits_quiet</th>\n",
       "      <th>wbp_top3benefits_bound</th>\n",
       "      <th>wbp_top3benefits_other</th>\n",
       "      <th>year</th>\n",
       "      <th>month</th>\n",
       "    </tr>\n",
       "  </thead>\n",
       "  <tbody>\n",
       "    <tr>\n",
       "      <th>0</th>\n",
       "      <td>3</td>\n",
       "      <td>5</td>\n",
       "      <td>3.0</td>\n",
       "      <td>1.0</td>\n",
       "      <td>1.0</td>\n",
       "      <td>2</td>\n",
       "      <td>3.0</td>\n",
       "      <td>1.0</td>\n",
       "      <td>1.0</td>\n",
       "      <td>0.0</td>\n",
       "      <td>0.0</td>\n",
       "      <td>0.0</td>\n",
       "      <td>0.0</td>\n",
       "      <td>1.0</td>\n",
       "      <td>0.0</td>\n",
       "      <td>0.0</td>\n",
       "      <td>1.0</td>\n",
       "      <td>0.0</td>\n",
       "      <td>0.0</td>\n",
       "      <td>0.0</td>\n",
       "      <td>1.0</td>\n",
       "      <td>0.0</td>\n",
       "      <td>2023</td>\n",
       "      <td>9</td>\n",
       "    </tr>\n",
       "    <tr>\n",
       "      <th>1</th>\n",
       "      <td>3</td>\n",
       "      <td>4</td>\n",
       "      <td>2.0</td>\n",
       "      <td>6.0</td>\n",
       "      <td>2.0</td>\n",
       "      <td>3</td>\n",
       "      <td>3.0</td>\n",
       "      <td>1.0</td>\n",
       "      <td>0.0</td>\n",
       "      <td>1.0</td>\n",
       "      <td>0.0</td>\n",
       "      <td>1.0</td>\n",
       "      <td>0.0</td>\n",
       "      <td>1.0</td>\n",
       "      <td>0.0</td>\n",
       "      <td>0.0</td>\n",
       "      <td>1.0</td>\n",
       "      <td>1.0</td>\n",
       "      <td>0.0</td>\n",
       "      <td>0.0</td>\n",
       "      <td>0.0</td>\n",
       "      <td>0.0</td>\n",
       "      <td>2023</td>\n",
       "      <td>8</td>\n",
       "    </tr>\n",
       "    <tr>\n",
       "      <th>2</th>\n",
       "      <td>3</td>\n",
       "      <td>5</td>\n",
       "      <td>3.0</td>\n",
       "      <td>1.0</td>\n",
       "      <td>1.0</td>\n",
       "      <td>5</td>\n",
       "      <td>2.0</td>\n",
       "      <td>1.0</td>\n",
       "      <td>0.0</td>\n",
       "      <td>0.0</td>\n",
       "      <td>0.0</td>\n",
       "      <td>1.0</td>\n",
       "      <td>1.0</td>\n",
       "      <td>1.0</td>\n",
       "      <td>0.0</td>\n",
       "      <td>1.0</td>\n",
       "      <td>0.0</td>\n",
       "      <td>1.0</td>\n",
       "      <td>0.0</td>\n",
       "      <td>1.0</td>\n",
       "      <td>0.0</td>\n",
       "      <td>0.0</td>\n",
       "      <td>2023</td>\n",
       "      <td>9</td>\n",
       "    </tr>\n",
       "    <tr>\n",
       "      <th>3</th>\n",
       "      <td>3</td>\n",
       "      <td>5</td>\n",
       "      <td>2.0</td>\n",
       "      <td>12.0</td>\n",
       "      <td>1.0</td>\n",
       "      <td>3</td>\n",
       "      <td>7.0</td>\n",
       "      <td>1.0</td>\n",
       "      <td>0.0</td>\n",
       "      <td>1.0</td>\n",
       "      <td>1.0</td>\n",
       "      <td>0.0</td>\n",
       "      <td>0.0</td>\n",
       "      <td>1.0</td>\n",
       "      <td>0.0</td>\n",
       "      <td>1.0</td>\n",
       "      <td>0.0</td>\n",
       "      <td>0.0</td>\n",
       "      <td>1.0</td>\n",
       "      <td>0.0</td>\n",
       "      <td>1.0</td>\n",
       "      <td>0.0</td>\n",
       "      <td>2022</td>\n",
       "      <td>5</td>\n",
       "    </tr>\n",
       "    <tr>\n",
       "      <th>4</th>\n",
       "      <td>5</td>\n",
       "      <td>3</td>\n",
       "      <td>2.0</td>\n",
       "      <td>8.0</td>\n",
       "      <td>1.0</td>\n",
       "      <td>5</td>\n",
       "      <td>5.0</td>\n",
       "      <td>1.0</td>\n",
       "      <td>1.0</td>\n",
       "      <td>0.0</td>\n",
       "      <td>1.0</td>\n",
       "      <td>0.0</td>\n",
       "      <td>1.0</td>\n",
       "      <td>0.0</td>\n",
       "      <td>0.0</td>\n",
       "      <td>1.0</td>\n",
       "      <td>0.0</td>\n",
       "      <td>0.0</td>\n",
       "      <td>1.0</td>\n",
       "      <td>0.0</td>\n",
       "      <td>1.0</td>\n",
       "      <td>0.0</td>\n",
       "      <td>2022</td>\n",
       "      <td>7</td>\n",
       "    </tr>\n",
       "  </tbody>\n",
       "</table>\n",
       "</div>"
      ],
      "text/plain": [
       "   agebin  education_s  iincomebin  work_industry  gender_d  \\\n",
       "0       3            5         3.0            1.0       1.0   \n",
       "1       3            4         2.0            6.0       2.0   \n",
       "2       3            5         3.0            1.0       1.0   \n",
       "3       3            5         2.0           12.0       1.0   \n",
       "4       5            3         2.0            8.0       1.0   \n",
       "\n",
       "   wfh_days_postCOVID_ss  wfh_days_postCOVID_boss_ss  workstatus_current_new  \\\n",
       "0                      2                         3.0                     1.0   \n",
       "1                      3                         3.0                     1.0   \n",
       "2                      5                         2.0                     1.0   \n",
       "3                      3                         7.0                     1.0   \n",
       "4                      5                         5.0                     1.0   \n",
       "\n",
       "   wfh_top3benefits_commute  wfh_top3benefits_groom  wfh_top3benefits_flex  \\\n",
       "0                       1.0                     0.0                    0.0   \n",
       "1                       0.0                     1.0                    0.0   \n",
       "2                       0.0                     0.0                    0.0   \n",
       "3                       0.0                     1.0                    1.0   \n",
       "4                       1.0                     0.0                    1.0   \n",
       "\n",
       "   wfh_top3benefits_meetings  wfh_top3benefits_quiet  wfh_top3benefits_family  \\\n",
       "0                        0.0                     0.0                      1.0   \n",
       "1                        1.0                     0.0                      1.0   \n",
       "2                        1.0                     1.0                      1.0   \n",
       "3                        0.0                     0.0                      1.0   \n",
       "4                        0.0                     1.0                      0.0   \n",
       "\n",
       "   wfh_top3benefits_other  wbp_top3benefits_collab  wbp_top3benefits_social  \\\n",
       "0                     0.0                      0.0                      1.0   \n",
       "1                     0.0                      0.0                      1.0   \n",
       "2                     0.0                      1.0                      0.0   \n",
       "3                     0.0                      1.0                      0.0   \n",
       "4                     0.0                      1.0                      0.0   \n",
       "\n",
       "   wbp_top3benefits_facetime  wbp_top3benefits_equip  wbp_top3benefits_quiet  \\\n",
       "0                        0.0                     0.0                     0.0   \n",
       "1                        1.0                     0.0                     0.0   \n",
       "2                        1.0                     0.0                     1.0   \n",
       "3                        0.0                     1.0                     0.0   \n",
       "4                        0.0                     1.0                     0.0   \n",
       "\n",
       "   wbp_top3benefits_bound  wbp_top3benefits_other  year  month  \n",
       "0                     1.0                     0.0  2023      9  \n",
       "1                     0.0                     0.0  2023      8  \n",
       "2                     0.0                     0.0  2023      9  \n",
       "3                     1.0                     0.0  2022      5  \n",
       "4                     1.0                     0.0  2022      7  "
      ]
     },
     "execution_count": 3,
     "metadata": {},
     "output_type": "execute_result"
    }
   ],
   "source": [
    "rem.head()"
   ]
  },
  {
   "cell_type": "code",
   "execution_count": 4,
   "id": "240e4ef6",
   "metadata": {},
   "outputs": [],
   "source": [
    "# rem.isnull().sum()"
   ]
  },
  {
   "cell_type": "code",
   "execution_count": 8,
   "id": "441f9736",
   "metadata": {},
   "outputs": [
    {
     "data": {
      "text/plain": [
       "year\n",
       "2023    33280\n",
       "2022    30795\n",
       "Name: count, dtype: int64"
      ]
     },
     "execution_count": 8,
     "metadata": {},
     "output_type": "execute_result"
    }
   ],
   "source": [
    "rem.year.value_counts()"
   ]
  },
  {
   "cell_type": "code",
   "execution_count": 5,
   "id": "f791f672",
   "metadata": {},
   "outputs": [],
   "source": [
    "# rem.to_excel(\"rem.xlsx, index=False)"
   ]
  },
  {
   "cell_type": "markdown",
   "id": "257d6e60",
   "metadata": {},
   "source": [
    "#### Age\n",
    "* label define agebin_lbl 2 \"20 - 29\", add\n",
    "* label define agebin_lbl 3 \"30 - 39\", add\n",
    "* label define agebin_lbl 4 \"40 - 49\", add\n",
    "* label define agebin_lbl 5 \"50 - 64\", add\n",
    "********************************************************************************\n",
    "#### Gender [Note: gender_d includes the \"Other/prefer not to say option\" while gender focuses on male/female (sex only)]\n",
    "* label define gender_lbl 1 \"Female\"\n",
    "* label define gender_lbl 2 \"Male\", add\n",
    "* label define gender_lbl 3 \"Other/prefer not to say\", add\n",
    "********************************************************************************\n",
    "#### Education \n",
    "##### label define education_s_lbl \n",
    "* 1 \"Less than high-school degree\"\n",
    "* 2 \"High-school degree\", add\n",
    "* 3 \"1 to 3-years of college\", add\n",
    "* 4 \"4-year college degree\", add\n",
    "* 5 \"Graduate degree\", add\n",
    "********************************************************************************\n",
    "#### Work Status \n",
    "##### label define workstatus_current_new\n",
    "1 \"Working for pay\"\n",
    "\n",
    "2 \"Employed and paid, but not working\" \n",
    "\n",
    "3 \"Unemployed, searching\" \n",
    "\n",
    "4 \"Unemployed, awaiting recall\" \n",
    "\n",
    "5 \"Out of the labor force\"\n",
    "\n",
    "6 \"Other\"\n",
    "********************************************************************************\n",
    "#### Industry of current job\n",
    "##### work_industry_lbl\n",
    "1 \"Agriculture\", \n",
    "\n",
    "2 \"Arts & Entertainment\",\n",
    "\n",
    "3 \"Finance & Insurance\"\n",
    "\n",
    "4 \"Construction\" \n",
    "\n",
    "5 \"Education\"\n",
    "\n",
    "6 \"Health Care & Social Assistance\"\n",
    "\n",
    "7 \"Hospitality & Food Services\"\n",
    "\n",
    "8 \"Information\"\n",
    "\n",
    "9 \"Manufacturing\"\n",
    "\n",
    "10 \"Mining\"\n",
    "\n",
    "11 \"Professional & Business Services\"\n",
    "\n",
    "12 \"Real Estate\"\n",
    "\n",
    "13 \"Retail Trade\"\n",
    "\n",
    "14 \"Transportation and Warehousing\"\n",
    "\n",
    "15 \"Utilities\"\n",
    "\n",
    "16 \"Wholesale Trade\"\n",
    "\n",
    "17 \"Government\"\n",
    "\n",
    "18 \"Other\"\n",
    "********************************************************************************\n",
    "#### Income categories (coarse and fine)\n",
    "label define iincomebin_lbl\n",
    "\n",
    "0 \"$10k to $20k\" \n",
    "\n",
    "1 \"$20k to $50k\" \n",
    "\n",
    "2 \"$50k to $100k\" \n",
    "\n",
    "3 \"$100k to $150k\" \n",
    "\n",
    "4 \"$150k+\"\n",
    "\n",
    "********************************************************************************\n",
    "#### Employer planned post-COVID working from home days, for both categorical versions (bundled and unbundled \"Rarely\" and \"Never\" categories)\n",
    "##### wfh_days_postCOVID_boss_ss_lbl\n",
    "1 \"Rarely or never\"\n",
    "\n",
    "2 \"1 day per week\"\n",
    "\n",
    "3 \"2 days per week\"\n",
    "\n",
    "4 \"3 days per week\"\n",
    "\n",
    "5 \"4 days per week\"\n",
    "\n",
    "6 \"5 day per week\"\n",
    "\n",
    "7 \"No clear plans from employer\"\n",
    "\n",
    "8 \"No employer\"\n",
    "\n",
    "*******************************************************************************\n",
    "#### Desired post-COVID working from home days, for both categorical versions (bundled and unbundled \"Rarely\" and \"Never\" categories)\n",
    "##### wfh_days_postCOVID_ss_lbl\n",
    "1 \"Rarely or never\"\n",
    "\n",
    "2 \"1 day per week\"\n",
    "\n",
    "3 \"2 days per week\"\n",
    "\n",
    "4 \"3 days per week\"\n",
    "\n",
    "5 \"4 days per week\"\n",
    "\n",
    "6 \"5 days per week\"\n",
    "********************************************************************************\n",
    "#### Top 3 Benefits WFH / WBP\n",
    "wfh_top3benefits_commute \"Top 3 benefits of WFH include: No commute\"\n",
    "\n",
    "wfh_top3benefits_groom \"Top 3 benefits of WFH include: Less time getting ready\"\n",
    "\n",
    "wfh_top3benefits_flex \"Top 3 benefits of WFH include: Flexibility on when I work\"\n",
    "\n",
    "wfh_top3benefits_meetings \"Top 3 benefits of WFH include: Fewer meetings\"\n",
    "\n",
    "wfh_top3benefits_quiet  \"Top 3 benefits of WFH include: Individual quiet time\"\n",
    "\n",
    "wfh_top3benefits_family  \"Top 3 benefits of WFH include: More time with family/friends\"\n",
    "\n",
    "wfh_top3benefits_other  \"Top 3 benefits of WFH include: Other\"\n",
    "_ _ _ _\n",
    "wbp_top3benefits_collab \"Top 3 benefits of WBP include: Face-toface collaboration\" \n",
    "\n",
    "wbp_top3benefits_social \"Top 3 benefits of WBP include: Socializing\" \n",
    "\n",
    "wbp_top3benefits_facetime \"Top 3 benefits of WBP include: Face time with manager\"\n",
    "\n",
    "wbp_top3benefits_equip \"Top 3 benefits of WBP include: Better equipment\"\n",
    "\n",
    "wbp_top3benefits_quiet \"Top 3 benefits of WBP include: Quiet\"\n",
    "\n",
    "wbp_top3benefits_bound \"Top 3 benefits of WBP include: Work/personal time boundaries\"\n",
    "\n",
    "wbp_top3benefits_other  \"Top 3 benefits of WBP include: Other\""
   ]
  },
  {
   "cell_type": "code",
   "execution_count": 6,
   "id": "e2656e21",
   "metadata": {},
   "outputs": [
    {
     "ename": "NameError",
     "evalue": "name 'wfh_columns' is not defined",
     "output_type": "error",
     "traceback": [
      "\u001b[1;31m---------------------------------------------------------------------------\u001b[0m",
      "\u001b[1;31mNameError\u001b[0m                                 Traceback (most recent call last)",
      "Cell \u001b[1;32mIn[6], line 6\u001b[0m\n\u001b[0;32m      3\u001b[0m num_male_responses \u001b[38;5;241m=\u001b[39m (rem[\u001b[38;5;124m'\u001b[39m\u001b[38;5;124mgender_d\u001b[39m\u001b[38;5;124m'\u001b[39m] \u001b[38;5;241m==\u001b[39m \u001b[38;5;241m2\u001b[39m)\u001b[38;5;241m.\u001b[39msum()\n\u001b[0;32m      5\u001b[0m \u001b[38;5;66;03m# Sum up the values chosen by males and females separately for WFH and WBP\u001b[39;00m\n\u001b[1;32m----> 6\u001b[0m wfh_male_sum \u001b[38;5;241m=\u001b[39m rem\u001b[38;5;241m.\u001b[39mloc[rem[\u001b[38;5;124m'\u001b[39m\u001b[38;5;124mgender_d\u001b[39m\u001b[38;5;124m'\u001b[39m] \u001b[38;5;241m==\u001b[39m \u001b[38;5;241m1\u001b[39m, wfh_columns]\u001b[38;5;241m.\u001b[39msum()\u001b[38;5;241m.\u001b[39msum()\n\u001b[0;32m      7\u001b[0m wfh_female_sum \u001b[38;5;241m=\u001b[39m rem\u001b[38;5;241m.\u001b[39mloc[rem[\u001b[38;5;124m'\u001b[39m\u001b[38;5;124mgender_d\u001b[39m\u001b[38;5;124m'\u001b[39m] \u001b[38;5;241m==\u001b[39m \u001b[38;5;241m2\u001b[39m, wfh_columns]\u001b[38;5;241m.\u001b[39msum()\u001b[38;5;241m.\u001b[39msum()\n\u001b[0;32m      9\u001b[0m wbp_male_sum \u001b[38;5;241m=\u001b[39m rem\u001b[38;5;241m.\u001b[39mloc[rem[\u001b[38;5;124m'\u001b[39m\u001b[38;5;124mgender_d\u001b[39m\u001b[38;5;124m'\u001b[39m] \u001b[38;5;241m==\u001b[39m \u001b[38;5;241m1\u001b[39m, wbp_columns]\u001b[38;5;241m.\u001b[39msum()\u001b[38;5;241m.\u001b[39msum()\n",
      "\u001b[1;31mNameError\u001b[0m: name 'wfh_columns' is not defined"
     ]
    }
   ],
   "source": [
    "# Count the number of responses for each gender\n",
    "num_female_responses = (rem['gender_d'] == 1).sum()\n",
    "num_male_responses = (rem['gender_d'] == 2).sum()\n",
    "\n",
    "# Sum up the values chosen by males and females separately for WFH and WBP\n",
    "wfh_male_sum = rem.loc[rem['gender_d'] == 1, wfh_columns].sum().sum()\n",
    "wfh_female_sum = rem.loc[rem['gender_d'] == 2, wfh_columns].sum().sum()\n",
    "\n",
    "wbp_male_sum = rem.loc[rem['gender_d'] == 1, wbp_columns].sum().sum()\n",
    "wbp_female_sum = rem.loc[rem['gender_d'] == 2, wbp_columns].sum().sum()\n",
    "\n",
    "# Normalize the sum values by the number of responses for each gender\n",
    "wfh_male_normalized = wfh_male_sum / num_male_responses\n",
    "wfh_female_normalized = wfh_female_sum / num_female_responses\n",
    "\n",
    "wbp_male_normalized = wbp_male_sum / num_male_responses\n",
    "wbp_female_normalized = wbp_female_sum / num_female_responses\n",
    "\n",
    "# Print the normalized sum values for each gender and each category\n",
    "print(\"Normalized sum values for WFH benefits:\")\n",
    "print(f\"Male: {wfh_male_normalized}\")\n",
    "print(f\"Female: {wfh_female_normalized}\")\n",
    "\n",
    "print(\"\\nNormalized sum values for WBP benefits:\")\n",
    "print(f\"Male: {wbp_male_normalized}\")\n",
    "print(f\"Female: {wbp_female_normalized}\")\n",
    "\n",
    "# Compare the normalized totals for males\n",
    "if wfh_male_normalized > wbp_male_normalized:\n",
    "    print(\"\\nOverall, males prefer WFH benefits.\")\n",
    "elif wfh_male_normalized < wbp_male_normalized:\n",
    "    print(\"\\nOverall, males prefer WBP benefits.\")\n",
    "else:\n",
    "    print(\"\\nThere is no preference difference between WFH and WBP benefits for males.\")\n",
    "\n",
    "# Compare the normalized totals for females\n",
    "if wfh_female_normalized > wbp_female_normalized:\n",
    "    print(\"\\nOverall, females prefer WFH benefits.\")\n",
    "elif wfh_female_normalized < wbp_female_normalized:\n",
    "    print(\"\\nOverall, females prefer WBP benefits.\")\n",
    "else:\n",
    "    print(\"\\nThere is no preference difference between WFH and WBP benefits for females.\")\n"
   ]
  },
  {
   "cell_type": "code",
   "execution_count": null,
   "id": "d7156d9f",
   "metadata": {},
   "outputs": [],
   "source": [
    "## Split cat num"
   ]
  },
  {
   "cell_type": "code",
   "execution_count": null,
   "id": "fb210a5b",
   "metadata": {},
   "outputs": [],
   "source": [
    "cat_features = rem[['gender_d','work_industry']]"
   ]
  },
  {
   "cell_type": "code",
   "execution_count": null,
   "id": "8f672599",
   "metadata": {},
   "outputs": [],
   "source": [
    "cat_features = cat_features.astype(object)\n",
    "cat_features.dtypes"
   ]
  },
  {
   "cell_type": "code",
   "execution_count": null,
   "id": "2826ee2b",
   "metadata": {},
   "outputs": [],
   "source": [
    "num_features = rem[['year','month','agebin','education_s','iincomebin','wfh_days_postCOVID_ss','wfh_days_postCOVID_boss_ss','workstatus_current_new','wfh_top3benefits_commute','wfh_top3benefits_groom','wfh_top3benefits_flex','wfh_top3benefits_meetings','wfh_top3benefits_quiet','wfh_top3benefits_family','wfh_top3benefits_other','wbp_top3benefits_collab','wbp_top3benefits_social','wbp_top3benefits_facetime','wbp_top3benefits_equip','wbp_top3benefits_quiet','wbp_top3benefits_bound','wbp_top3benefits_other']]"
   ]
  },
  {
   "cell_type": "code",
   "execution_count": null,
   "id": "b226bcb9",
   "metadata": {},
   "outputs": [],
   "source": [
    "num_features"
   ]
  },
  {
   "cell_type": "code",
   "execution_count": null,
   "id": "e05f4ac0",
   "metadata": {},
   "outputs": [],
   "source": [
    "# for i in cat_features.columns:\n",
    "# #     print(cat_features[i].dtype)"
   ]
  },
  {
   "cell_type": "code",
   "execution_count": null,
   "id": "96d15b6d",
   "metadata": {},
   "outputs": [],
   "source": [
    "# for i in num_features.columns:\n",
    "# #     print(num_features[i].dtype)"
   ]
  },
  {
   "cell_type": "code",
   "execution_count": null,
   "id": "64ff5919",
   "metadata": {},
   "outputs": [],
   "source": [
    "## convert wfh_days_postCOVID_ss to two posibilities - 0 =\"Rarely or never\"+\"1 day per week\" & 1 = all other numbers. \n",
    "## This will create two possible employees - those who want to wfh and those who don't \n",
    "mapping = {\n",
    "    1: 0,\n",
    "    2: 0,\n",
    "    3: 1,\n",
    "    4: 1,\n",
    "    5: 1,\n",
    "    6: 1,\n",
    "    7: 0,\n",
    "    8: 0\n",
    "}\n",
    "\n",
    "# Replace the values according to the mapping\n",
    "num_features['wfh_days_postCOVID_ss'] = num_features['wfh_days_postCOVID_ss'].replace(mapping)"
   ]
  },
  {
   "cell_type": "code",
   "execution_count": null,
   "id": "9398b46a",
   "metadata": {},
   "outputs": [],
   "source": [
    "num_features['wfh_days_postCOVID_ss'].value_counts(dropna=False)"
   ]
  },
  {
   "cell_type": "code",
   "execution_count": null,
   "id": "2388c9e4",
   "metadata": {},
   "outputs": [],
   "source": [
    "## the target column is 'wfh_days_postCOVID_ss'"
   ]
  },
  {
   "cell_type": "code",
   "execution_count": null,
   "id": "f3c09f42",
   "metadata": {},
   "outputs": [],
   "source": [
    "## Split"
   ]
  },
  {
   "cell_type": "code",
   "execution_count": null,
   "id": "d29694db",
   "metadata": {},
   "outputs": [],
   "source": [
    "numerical = num_features\n",
    "numerical = numerical\n",
    "print(numerical.shape)"
   ]
  },
  {
   "cell_type": "code",
   "execution_count": null,
   "id": "18228466",
   "metadata": {},
   "outputs": [],
   "source": [
    "categorical = cat_features\n",
    "print(categorical.shape)"
   ]
  },
  {
   "cell_type": "code",
   "execution_count": null,
   "id": "2d8d883a",
   "metadata": {},
   "outputs": [],
   "source": [
    "X = pd.concat([categorical,numerical],axis=1)\n",
    "X = X.drop(['wfh_days_postCOVID_ss'],axis=1)\n",
    "y = numerical['wfh_days_postCOVID_ss']"
   ]
  },
  {
   "cell_type": "code",
   "execution_count": null,
   "id": "a525b30c",
   "metadata": {},
   "outputs": [],
   "source": [
    "X_train, X_test, y_train, y_test = train_test_split(X, y, random_state=25)"
   ]
  },
  {
   "cell_type": "code",
   "execution_count": null,
   "id": "8850811b",
   "metadata": {},
   "outputs": [],
   "source": [
    "display(X_train.shape)\n",
    "display(X_test.shape)\n",
    "display(y_train.shape)\n",
    "display(y_test.shape) "
   ]
  },
  {
   "cell_type": "code",
   "execution_count": null,
   "id": "90d05fcd",
   "metadata": {},
   "outputs": [],
   "source": [
    "# Split Xtrain, Xtest to cat num\n",
    "X_train_cat = X_train.select_dtypes(object)\n",
    "X_test_cat = X_test.select_dtypes(object)"
   ]
  },
  {
   "cell_type": "code",
   "execution_count": null,
   "id": "48efaa57",
   "metadata": {},
   "outputs": [],
   "source": [
    "X_train_num = X_train.select_dtypes(np.number)\n",
    "X_test_num = X_test.select_dtypes(np.number)"
   ]
  },
  {
   "cell_type": "code",
   "execution_count": null,
   "id": "8fae3046",
   "metadata": {},
   "outputs": [],
   "source": [
    "display(X_train_cat.shape)\n",
    "display(X_test_cat.shape)\n",
    "display(X_train_num.shape)\n",
    "display(X_test_num.shape)"
   ]
  },
  {
   "cell_type": "code",
   "execution_count": null,
   "id": "7e2cdbf4",
   "metadata": {},
   "outputs": [],
   "source": [
    "### Encoding on train and test seperatly"
   ]
  },
  {
   "cell_type": "code",
   "execution_count": null,
   "id": "996b9326",
   "metadata": {},
   "outputs": [],
   "source": [
    "encoder = OneHotEncoder(drop='first').fit(X_train_cat)\n",
    "cols = encoder.get_feature_names_out(input_features=X_train_cat.columns)\n",
    "X_train_cat_encode = pd.DataFrame(encoder.transform(X_train_cat).toarray(), columns=cols)\n",
    "X_test_cat_encode = pd.DataFrame(encoder.transform(X_test_cat).toarray(), columns=cols)"
   ]
  },
  {
   "cell_type": "code",
   "execution_count": null,
   "id": "57af5ab8",
   "metadata": {},
   "outputs": [],
   "source": [
    "# Scaling\n",
    "transformer = MinMaxScaler().fit(X_train_num)\n",
    "\n",
    "x_normalized_train = transformer.transform(X_train_num)\n",
    "X_train_num = pd.DataFrame(x_normalized_train, columns=X_train_num.columns)\n",
    "\n",
    "x_normalized_test = transformer.transform(X_test_num)\n",
    "X_test_num = pd.DataFrame(x_normalized_test, columns=X_test_num.columns)"
   ]
  },
  {
   "cell_type": "code",
   "execution_count": null,
   "id": "0cef5ffa",
   "metadata": {},
   "outputs": [],
   "source": [
    "# Concat Xtrain num & Xtrain cat"
   ]
  },
  {
   "cell_type": "code",
   "execution_count": null,
   "id": "ccb7ce8e",
   "metadata": {},
   "outputs": [],
   "source": [
    "X_train_full = pd.concat([X_train_num,X_train_cat_encode],axis=1)\n",
    "X_test_full = pd.concat([X_test_num,X_test_cat_encode],axis=1)"
   ]
  },
  {
   "cell_type": "code",
   "execution_count": null,
   "id": "811f1ab3",
   "metadata": {},
   "outputs": [],
   "source": [
    "X_train_full"
   ]
  },
  {
   "cell_type": "code",
   "execution_count": null,
   "id": "0dd10f2f",
   "metadata": {},
   "outputs": [],
   "source": [
    "## Modeling : "
   ]
  },
  {
   "cell_type": "code",
   "execution_count": null,
   "id": "22d90d1b",
   "metadata": {},
   "outputs": [],
   "source": [
    "from sklearn.tree import DecisionTreeClassifier\n",
    "model = DecisionTreeClassifier(max_depth=2)\n",
    "model.fit(X_train_full, y_train)"
   ]
  },
  {
   "cell_type": "code",
   "execution_count": null,
   "id": "471c74f0",
   "metadata": {},
   "outputs": [],
   "source": [
    "print(\"test data accuracy was \",model.score(X_test_full,y_test))\n",
    "# 100% on training data\n",
    "print(\"train data accuracy was \",model.score(X_train_full,y_train))"
   ]
  },
  {
   "cell_type": "code",
   "execution_count": null,
   "id": "13dc6ca9",
   "metadata": {},
   "outputs": [],
   "source": [
    "model.feature_importances_"
   ]
  },
  {
   "cell_type": "code",
   "execution_count": null,
   "id": "6b007c74",
   "metadata": {},
   "outputs": [],
   "source": [
    "columns = X.columns.values\n",
    "columns"
   ]
  },
  {
   "cell_type": "code",
   "execution_count": null,
   "id": "3a1e2c7d",
   "metadata": {},
   "outputs": [],
   "source": [
    "X.shape, X_train.shape, X_train_full.shape"
   ]
  },
  {
   "cell_type": "code",
   "execution_count": null,
   "id": "1f869d40",
   "metadata": {},
   "outputs": [],
   "source": [
    "import matplotlib.pyplot as plt\n",
    "def plot_feature_importances(model, namelist):\n",
    "    n_features = len(model.feature_importances_)\n",
    "    plt.barh(range(n_features), model.feature_importances_, align='center')\n",
    "    plt.yticks(np.arange(n_features), namelist)\n",
    "    plt.xlabel(\"Feature importance\")\n",
    "    plt.ylabel(\"Feature\")\n",
    "\n",
    "plot_feature_importances(model, X_train_full.columns)"
   ]
  },
  {
   "cell_type": "code",
   "execution_count": null,
   "id": "4ab83d95",
   "metadata": {},
   "outputs": [],
   "source": [
    "from sklearn.ensemble import RandomForestClassifier\n",
    "from sklearn.metrics import confusion_matrix\n",
    "\n",
    "clf = RandomForestClassifier(max_depth=5, # max number of questions to ask\n",
    "                             min_samples_split=20, # amount of rows still considered at every question\n",
    "                             min_samples_leaf =20, # ultimate answer based on at least this many rows\n",
    "                             max_samples=0.8, # fraction of X-train to use in each tree\n",
    "                             random_state=42)\n",
    "model2 = clf.fit(X_train_full, y_train)\n",
    "\n",
    "y_pred = clf.predict(X_test_full)\n",
    "display(y_test.value_counts())\n",
    "display(confusion_matrix(y_test, y_pred))"
   ]
  },
  {
   "cell_type": "code",
   "execution_count": null,
   "id": "32556a5e",
   "metadata": {},
   "outputs": [],
   "source": [
    "print(\"test data accuracy was \",model2.score(X_test_full,y_test))\n",
    "# 100% on training data\n",
    "print(\"train data accuracy was \",model2.score(X_train_full,y_train))"
   ]
  },
  {
   "cell_type": "code",
   "execution_count": null,
   "id": "fa12d801",
   "metadata": {},
   "outputs": [],
   "source": [
    "## Data is imbalanced"
   ]
  },
  {
   "cell_type": "code",
   "execution_count": null,
   "id": "431c4ef2",
   "metadata": {},
   "outputs": [],
   "source": [
    "## concat Xtrain and Ytrain for sampling\n",
    "X_train_full.reset_index(drop=True, inplace=True)\n",
    "y_train.reset_index(drop=True, inplace=True)\n",
    "trainset = pd.concat([X_train_full, y_train], axis=1)\n",
    "display(trainset.shape)\n",
    "trainset.head()"
   ]
  },
  {
   "cell_type": "code",
   "execution_count": null,
   "id": "2a023f74",
   "metadata": {},
   "outputs": [],
   "source": [
    "trainset.wfh_days_postCOVID_ss.value_counts()"
   ]
  },
  {
   "cell_type": "code",
   "execution_count": null,
   "id": "7546a1b4",
   "metadata": {},
   "outputs": [],
   "source": [
    "from sklearn.utils import resample\n",
    "\n",
    "category_0 = trainset[trainset['wfh_days_postCOVID_ss'] == 0]\n",
    "category_1 = trainset[trainset['wfh_days_postCOVID_ss'] == 1]"
   ]
  },
  {
   "cell_type": "code",
   "execution_count": null,
   "id": "d408c2a7",
   "metadata": {},
   "outputs": [],
   "source": [
    "## Downsampling (undersampling)"
   ]
  },
  {
   "cell_type": "code",
   "execution_count": null,
   "id": "a53996f8",
   "metadata": {},
   "outputs": [],
   "source": [
    "category_1_undersampled = resample(category_1,\n",
    "                                   replace=False,\n",
    "                                   n_samples = len(category_0))\n",
    "print(category_1_undersampled.shape)\n",
    "print(category_0.shape)"
   ]
  },
  {
   "cell_type": "code",
   "execution_count": null,
   "id": "55142092",
   "metadata": {},
   "outputs": [],
   "source": [
    "data_downsampled = pd.concat([category_1_undersampled, category_0], axis=0)\n",
    "data_downsampled['wfh_days_postCOVID_ss'].value_counts()"
   ]
  },
  {
   "cell_type": "code",
   "execution_count": null,
   "id": "d9ccbb9f",
   "metadata": {},
   "outputs": [],
   "source": [
    "## Upsampling (oversampling)"
   ]
  },
  {
   "cell_type": "code",
   "execution_count": null,
   "id": "7f7f4b6f",
   "metadata": {},
   "outputs": [],
   "source": [
    "category_0_oversampled = resample(category_0,\n",
    "                                   replace=True,\n",
    "                                   n_samples = len(category_1))\n",
    "print(category_0_oversampled.shape)\n",
    "print(category_1.shape)"
   ]
  },
  {
   "cell_type": "code",
   "execution_count": null,
   "id": "ea970e83",
   "metadata": {},
   "outputs": [],
   "source": [
    "data_upsampled = pd.concat([category_1, category_0_oversampled], axis=0)\n",
    "data_upsampled['wfh_days_postCOVID_ss'].value_counts()"
   ]
  },
  {
   "cell_type": "code",
   "execution_count": null,
   "id": "8ce3ba06",
   "metadata": {},
   "outputs": [],
   "source": [
    "## Remodeling DecisionTreeClassifier on downsampled \n",
    "y_train_down = data_downsampled['wfh_days_postCOVID_ss']\n",
    "X_train_down = data_downsampled.drop('wfh_days_postCOVID_ss',axis = 1)"
   ]
  },
  {
   "cell_type": "code",
   "execution_count": null,
   "id": "b98fe180",
   "metadata": {},
   "outputs": [],
   "source": [
    "model = DecisionTreeClassifier(max_depth=2)\n",
    "model.fit(X_train_down, y_train_down)"
   ]
  },
  {
   "cell_type": "code",
   "execution_count": null,
   "id": "2e8bdb9d",
   "metadata": {},
   "outputs": [],
   "source": [
    "print(\"test data accuracy was \",model.score(X_test_full,y_test))\n",
    "# 100% on training data\n",
    "print(\"train data accuracy was \",model.score(X_train_down,y_train_down))"
   ]
  },
  {
   "cell_type": "code",
   "execution_count": null,
   "id": "fd916c83",
   "metadata": {},
   "outputs": [],
   "source": [
    "model.feature_importances_"
   ]
  },
  {
   "cell_type": "code",
   "execution_count": null,
   "id": "beb4c3e1",
   "metadata": {},
   "outputs": [],
   "source": [
    "## Remodeling DecisionTreeClassifier on upsampled \n",
    "y_train_upsampled = data_upsampled['wfh_days_postCOVID_ss']\n",
    "X_train_upsampled = data_upsampled.drop('wfh_days_postCOVID_ss',axis = 1)"
   ]
  },
  {
   "cell_type": "code",
   "execution_count": null,
   "id": "949ec048",
   "metadata": {},
   "outputs": [],
   "source": [
    "model = DecisionTreeClassifier(max_depth=2)\n",
    "model.fit(X_train_upsampled, y_train_upsampled)"
   ]
  },
  {
   "cell_type": "code",
   "execution_count": null,
   "id": "7ea46dda",
   "metadata": {},
   "outputs": [],
   "source": [
    "print(\"test data accuracy was \",model.score(X_test_full,y_test))\n",
    "# 100% on training data\n",
    "print(\"train data accuracy was \",model.score(X_train_upsampled,y_train_upsampled))"
   ]
  },
  {
   "cell_type": "code",
   "execution_count": null,
   "id": "a965109a",
   "metadata": {},
   "outputs": [],
   "source": [
    "model.feature_importances_"
   ]
  },
  {
   "cell_type": "code",
   "execution_count": null,
   "id": "5f0b3d96",
   "metadata": {},
   "outputs": [],
   "source": [
    "## Remodeling RandomForestClassifier on downsampled \n",
    "clf = RandomForestClassifier(max_depth=5, # max number of questions to ask\n",
    "                             min_samples_split=20, # amount of rows still considered at every question\n",
    "                             min_samples_leaf =20, # ultimate answer based on at least this many rows\n",
    "                             max_samples=0.8, # fraction of X-train to use in each tree\n",
    "                             random_state=42)\n",
    "model2 = clf.fit(X_train_down, y_train_down)\n",
    "\n",
    "y_pred = clf.predict(X_test_full)\n",
    "display(y_test.value_counts())\n",
    "display(confusion_matrix(y_test, y_pred))"
   ]
  },
  {
   "cell_type": "code",
   "execution_count": null,
   "id": "80d70b41",
   "metadata": {},
   "outputs": [],
   "source": [
    "print(\"test data accuracy was \",model.score(X_test_full,y_test))\n",
    "# 100% on training data\n",
    "print(\"train data accuracy was \",model.score(X_train_down,y_train_down))"
   ]
  },
  {
   "cell_type": "code",
   "execution_count": null,
   "id": "aef72045",
   "metadata": {},
   "outputs": [],
   "source": [
    "## Remodeling RandomForestClassifier on upsampled \n",
    "clf = RandomForestClassifier(max_depth=5, # max number of questions to ask\n",
    "                             min_samples_split=20, # amount of rows still considered at every question\n",
    "                             min_samples_leaf =20, # ultimate answer based on at least this many rows\n",
    "                             max_samples=0.8, # fraction of X-train to use in each tree\n",
    "                             random_state=42)\n",
    "model2 = clf.fit(X_train_upsampled, y_train_upsampled)\n",
    "\n",
    "y_pred = clf.predict(X_test_full)\n",
    "display(y_test.value_counts())\n",
    "display(confusion_matrix(y_test, y_pred))"
   ]
  },
  {
   "cell_type": "code",
   "execution_count": null,
   "id": "5937ea07",
   "metadata": {},
   "outputs": [],
   "source": [
    "print(\"test data accuracy was \",model.score(X_test_full,y_test))\n",
    "# 100% on training data\n",
    "print(\"train data accuracy was \",model.score(X_train_upsampled,y_train_upsampled))"
   ]
  },
  {
   "cell_type": "code",
   "execution_count": null,
   "id": "c48861f4",
   "metadata": {},
   "outputs": [],
   "source": [
    "##               Predicted 0   Predicted 1\n",
    "## Actual 0        TN                    FP\n",
    "## Actual 1        FN                    TP\n",
    "\n",
    "# tn - true negative\n",
    "# fp - false positive\n",
    "# you want to maximise TN and TP"
   ]
  }
 ],
 "metadata": {
  "kernelspec": {
   "display_name": "Python 3 (ipykernel)",
   "language": "python",
   "name": "python3"
  },
  "language_info": {
   "codemirror_mode": {
    "name": "ipython",
    "version": 3
   },
   "file_extension": ".py",
   "mimetype": "text/x-python",
   "name": "python",
   "nbconvert_exporter": "python",
   "pygments_lexer": "ipython3",
   "version": "3.11.5"
  }
 },
 "nbformat": 4,
 "nbformat_minor": 5
}
