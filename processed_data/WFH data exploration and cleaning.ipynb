{
 "cells": [
  {
   "cell_type": "code",
   "execution_count": 1,
   "id": "030e842c",
   "metadata": {},
   "outputs": [],
   "source": [
    "import pandas as pd\n",
    "import numpy as np"
   ]
  },
  {
   "cell_type": "code",
   "execution_count": 2,
   "id": "6c70b4b4",
   "metadata": {},
   "outputs": [
    {
     "name": "stderr",
     "output_type": "stream",
     "text": [
      "C:\\Users\\Dana\\AppData\\Local\\Temp\\ipykernel_15656\\1469787668.py:1: DtypeWarning: Columns (373,383) have mixed types. Specify dtype option on import or set low_memory=False.\n",
      "  df= pd.read_csv('WFHdata_February24.csv')\n"
     ]
    }
   ],
   "source": [
    "df= pd.read_csv('WFHdata_February24.csv')"
   ]
  },
  {
   "cell_type": "code",
   "execution_count": 3,
   "id": "6233fa13",
   "metadata": {},
   "outputs": [
    {
     "data": {
      "text/html": [
       "<div>\n",
       "<style scoped>\n",
       "    .dataframe tbody tr th:only-of-type {\n",
       "        vertical-align: middle;\n",
       "    }\n",
       "\n",
       "    .dataframe tbody tr th {\n",
       "        vertical-align: top;\n",
       "    }\n",
       "\n",
       "    .dataframe thead th {\n",
       "        text-align: right;\n",
       "    }\n",
       "</style>\n",
       "<table border=\"1\" class=\"dataframe\">\n",
       "  <thead>\n",
       "    <tr style=\"text-align: right;\">\n",
       "      <th></th>\n",
       "      <th>cratio100</th>\n",
       "      <th>icratio100</th>\n",
       "      <th>cratio100_2021m3</th>\n",
       "      <th>icratio100_2021m3</th>\n",
       "      <th>cratio100_nw</th>\n",
       "      <th>icratio100_nw</th>\n",
       "      <th>date</th>\n",
       "      <th>income</th>\n",
       "      <th>age_quant</th>\n",
       "      <th>agebin</th>\n",
       "      <th>...</th>\n",
       "      <th>workday_hours_textemail</th>\n",
       "      <th>workday_hours_indivwork</th>\n",
       "      <th>workday_hours_downtime</th>\n",
       "      <th>workday_pct_videocall</th>\n",
       "      <th>workday_pct_f2fmeeting</th>\n",
       "      <th>workday_pct_textemail</th>\n",
       "      <th>workday_pct_indivwork</th>\n",
       "      <th>workday_pct_downtime</th>\n",
       "      <th>wfh_ideal_physical_health</th>\n",
       "      <th>wfh_ideal_mental_health</th>\n",
       "    </tr>\n",
       "  </thead>\n",
       "  <tbody>\n",
       "    <tr>\n",
       "      <th>0</th>\n",
       "      <td>0.000601</td>\n",
       "      <td>0.000361</td>\n",
       "      <td>0.004518</td>\n",
       "      <td>0.002505</td>\n",
       "      <td>0.000579</td>\n",
       "      <td>0.000357</td>\n",
       "      <td>2020m9</td>\n",
       "      <td>35.0</td>\n",
       "      <td>35</td>\n",
       "      <td>3</td>\n",
       "      <td>...</td>\n",
       "      <td>NaN</td>\n",
       "      <td>NaN</td>\n",
       "      <td>NaN</td>\n",
       "      <td>NaN</td>\n",
       "      <td>NaN</td>\n",
       "      <td>NaN</td>\n",
       "      <td>NaN</td>\n",
       "      <td>NaN</td>\n",
       "      <td>NaN</td>\n",
       "      <td>NaN</td>\n",
       "    </tr>\n",
       "    <tr>\n",
       "      <th>1</th>\n",
       "      <td>0.000060</td>\n",
       "      <td>0.000117</td>\n",
       "      <td>NaN</td>\n",
       "      <td>NaN</td>\n",
       "      <td>0.000058</td>\n",
       "      <td>0.000115</td>\n",
       "      <td>2023m10</td>\n",
       "      <td>112.5</td>\n",
       "      <td>25</td>\n",
       "      <td>2</td>\n",
       "      <td>...</td>\n",
       "      <td>NaN</td>\n",
       "      <td>NaN</td>\n",
       "      <td>NaN</td>\n",
       "      <td>NaN</td>\n",
       "      <td>NaN</td>\n",
       "      <td>NaN</td>\n",
       "      <td>NaN</td>\n",
       "      <td>NaN</td>\n",
       "      <td>NaN</td>\n",
       "      <td>NaN</td>\n",
       "    </tr>\n",
       "    <tr>\n",
       "      <th>2</th>\n",
       "      <td>0.000022</td>\n",
       "      <td>0.000085</td>\n",
       "      <td>NaN</td>\n",
       "      <td>NaN</td>\n",
       "      <td>0.000021</td>\n",
       "      <td>0.000084</td>\n",
       "      <td>2022m12</td>\n",
       "      <td>225.0</td>\n",
       "      <td>35</td>\n",
       "      <td>3</td>\n",
       "      <td>...</td>\n",
       "      <td>NaN</td>\n",
       "      <td>NaN</td>\n",
       "      <td>NaN</td>\n",
       "      <td>NaN</td>\n",
       "      <td>NaN</td>\n",
       "      <td>NaN</td>\n",
       "      <td>NaN</td>\n",
       "      <td>NaN</td>\n",
       "      <td>NaN</td>\n",
       "      <td>NaN</td>\n",
       "    </tr>\n",
       "    <tr>\n",
       "      <th>3</th>\n",
       "      <td>0.000069</td>\n",
       "      <td>0.000133</td>\n",
       "      <td>NaN</td>\n",
       "      <td>NaN</td>\n",
       "      <td>0.000066</td>\n",
       "      <td>0.000132</td>\n",
       "      <td>2023m9</td>\n",
       "      <td>112.5</td>\n",
       "      <td>35</td>\n",
       "      <td>3</td>\n",
       "      <td>...</td>\n",
       "      <td>NaN</td>\n",
       "      <td>NaN</td>\n",
       "      <td>NaN</td>\n",
       "      <td>NaN</td>\n",
       "      <td>NaN</td>\n",
       "      <td>NaN</td>\n",
       "      <td>NaN</td>\n",
       "      <td>NaN</td>\n",
       "      <td>NaN</td>\n",
       "      <td>NaN</td>\n",
       "    </tr>\n",
       "    <tr>\n",
       "      <th>4</th>\n",
       "      <td>0.000785</td>\n",
       "      <td>0.000472</td>\n",
       "      <td>NaN</td>\n",
       "      <td>NaN</td>\n",
       "      <td>0.000756</td>\n",
       "      <td>0.000466</td>\n",
       "      <td>2022m12</td>\n",
       "      <td>35.0</td>\n",
       "      <td>35</td>\n",
       "      <td>3</td>\n",
       "      <td>...</td>\n",
       "      <td>NaN</td>\n",
       "      <td>NaN</td>\n",
       "      <td>NaN</td>\n",
       "      <td>NaN</td>\n",
       "      <td>NaN</td>\n",
       "      <td>NaN</td>\n",
       "      <td>NaN</td>\n",
       "      <td>NaN</td>\n",
       "      <td>NaN</td>\n",
       "      <td>NaN</td>\n",
       "    </tr>\n",
       "  </tbody>\n",
       "</table>\n",
       "<p>5 rows × 611 columns</p>\n",
       "</div>"
      ],
      "text/plain": [
       "   cratio100  icratio100  cratio100_2021m3  icratio100_2021m3  cratio100_nw  \\\n",
       "0   0.000601    0.000361          0.004518           0.002505      0.000579   \n",
       "1   0.000060    0.000117               NaN                NaN      0.000058   \n",
       "2   0.000022    0.000085               NaN                NaN      0.000021   \n",
       "3   0.000069    0.000133               NaN                NaN      0.000066   \n",
       "4   0.000785    0.000472               NaN                NaN      0.000756   \n",
       "\n",
       "   icratio100_nw     date  income  age_quant  agebin  ...  \\\n",
       "0       0.000357   2020m9    35.0         35       3  ...   \n",
       "1       0.000115  2023m10   112.5         25       2  ...   \n",
       "2       0.000084  2022m12   225.0         35       3  ...   \n",
       "3       0.000132   2023m9   112.5         35       3  ...   \n",
       "4       0.000466  2022m12    35.0         35       3  ...   \n",
       "\n",
       "   workday_hours_textemail  workday_hours_indivwork  workday_hours_downtime  \\\n",
       "0                      NaN                      NaN                     NaN   \n",
       "1                      NaN                      NaN                     NaN   \n",
       "2                      NaN                      NaN                     NaN   \n",
       "3                      NaN                      NaN                     NaN   \n",
       "4                      NaN                      NaN                     NaN   \n",
       "\n",
       "   workday_pct_videocall  workday_pct_f2fmeeting  workday_pct_textemail  \\\n",
       "0                    NaN                     NaN                    NaN   \n",
       "1                    NaN                     NaN                    NaN   \n",
       "2                    NaN                     NaN                    NaN   \n",
       "3                    NaN                     NaN                    NaN   \n",
       "4                    NaN                     NaN                    NaN   \n",
       "\n",
       "   workday_pct_indivwork  workday_pct_downtime  wfh_ideal_physical_health  \\\n",
       "0                    NaN                   NaN                        NaN   \n",
       "1                    NaN                   NaN                        NaN   \n",
       "2                    NaN                   NaN                        NaN   \n",
       "3                    NaN                   NaN                        NaN   \n",
       "4                    NaN                   NaN                        NaN   \n",
       "\n",
       "   wfh_ideal_mental_health  \n",
       "0                      NaN  \n",
       "1                      NaN  \n",
       "2                      NaN  \n",
       "3                      NaN  \n",
       "4                      NaN  \n",
       "\n",
       "[5 rows x 611 columns]"
      ]
     },
     "execution_count": 3,
     "metadata": {},
     "output_type": "execute_result"
    }
   ],
   "source": [
    "df.head()"
   ]
  },
  {
   "cell_type": "code",
   "execution_count": 4,
   "id": "99d78ec0",
   "metadata": {},
   "outputs": [
    {
     "data": {
      "text/plain": [
       "(236164, 611)"
      ]
     },
     "execution_count": 4,
     "metadata": {},
     "output_type": "execute_result"
    }
   ],
   "source": [
    "df.shape"
   ]
  },
  {
   "cell_type": "markdown",
   "id": "c0f2cc09",
   "metadata": {},
   "source": [
    "### Extracting 'year' and 'month' from the 'date' column"
   ]
  },
  {
   "cell_type": "code",
   "execution_count": 5,
   "id": "201f2774",
   "metadata": {},
   "outputs": [
    {
     "data": {
      "text/html": [
       "<div>\n",
       "<style scoped>\n",
       "    .dataframe tbody tr th:only-of-type {\n",
       "        vertical-align: middle;\n",
       "    }\n",
       "\n",
       "    .dataframe tbody tr th {\n",
       "        vertical-align: top;\n",
       "    }\n",
       "\n",
       "    .dataframe thead th {\n",
       "        text-align: right;\n",
       "    }\n",
       "</style>\n",
       "<table border=\"1\" class=\"dataframe\">\n",
       "  <thead>\n",
       "    <tr style=\"text-align: right;\">\n",
       "      <th></th>\n",
       "      <th>cratio100</th>\n",
       "      <th>icratio100</th>\n",
       "      <th>cratio100_2021m3</th>\n",
       "      <th>icratio100_2021m3</th>\n",
       "      <th>cratio100_nw</th>\n",
       "      <th>icratio100_nw</th>\n",
       "      <th>date</th>\n",
       "      <th>income</th>\n",
       "      <th>age_quant</th>\n",
       "      <th>agebin</th>\n",
       "      <th>...</th>\n",
       "      <th>workday_hours_downtime</th>\n",
       "      <th>workday_pct_videocall</th>\n",
       "      <th>workday_pct_f2fmeeting</th>\n",
       "      <th>workday_pct_textemail</th>\n",
       "      <th>workday_pct_indivwork</th>\n",
       "      <th>workday_pct_downtime</th>\n",
       "      <th>wfh_ideal_physical_health</th>\n",
       "      <th>wfh_ideal_mental_health</th>\n",
       "      <th>year</th>\n",
       "      <th>month</th>\n",
       "    </tr>\n",
       "  </thead>\n",
       "  <tbody>\n",
       "    <tr>\n",
       "      <th>0</th>\n",
       "      <td>0.000601</td>\n",
       "      <td>0.000361</td>\n",
       "      <td>0.004518</td>\n",
       "      <td>0.002505</td>\n",
       "      <td>0.000579</td>\n",
       "      <td>0.000357</td>\n",
       "      <td>2020m9</td>\n",
       "      <td>35.0</td>\n",
       "      <td>35</td>\n",
       "      <td>3</td>\n",
       "      <td>...</td>\n",
       "      <td>NaN</td>\n",
       "      <td>NaN</td>\n",
       "      <td>NaN</td>\n",
       "      <td>NaN</td>\n",
       "      <td>NaN</td>\n",
       "      <td>NaN</td>\n",
       "      <td>NaN</td>\n",
       "      <td>NaN</td>\n",
       "      <td>2020</td>\n",
       "      <td>9</td>\n",
       "    </tr>\n",
       "    <tr>\n",
       "      <th>1</th>\n",
       "      <td>0.000060</td>\n",
       "      <td>0.000117</td>\n",
       "      <td>NaN</td>\n",
       "      <td>NaN</td>\n",
       "      <td>0.000058</td>\n",
       "      <td>0.000115</td>\n",
       "      <td>2023m10</td>\n",
       "      <td>112.5</td>\n",
       "      <td>25</td>\n",
       "      <td>2</td>\n",
       "      <td>...</td>\n",
       "      <td>NaN</td>\n",
       "      <td>NaN</td>\n",
       "      <td>NaN</td>\n",
       "      <td>NaN</td>\n",
       "      <td>NaN</td>\n",
       "      <td>NaN</td>\n",
       "      <td>NaN</td>\n",
       "      <td>NaN</td>\n",
       "      <td>2023</td>\n",
       "      <td>10</td>\n",
       "    </tr>\n",
       "    <tr>\n",
       "      <th>2</th>\n",
       "      <td>0.000022</td>\n",
       "      <td>0.000085</td>\n",
       "      <td>NaN</td>\n",
       "      <td>NaN</td>\n",
       "      <td>0.000021</td>\n",
       "      <td>0.000084</td>\n",
       "      <td>2022m12</td>\n",
       "      <td>225.0</td>\n",
       "      <td>35</td>\n",
       "      <td>3</td>\n",
       "      <td>...</td>\n",
       "      <td>NaN</td>\n",
       "      <td>NaN</td>\n",
       "      <td>NaN</td>\n",
       "      <td>NaN</td>\n",
       "      <td>NaN</td>\n",
       "      <td>NaN</td>\n",
       "      <td>NaN</td>\n",
       "      <td>NaN</td>\n",
       "      <td>2022</td>\n",
       "      <td>12</td>\n",
       "    </tr>\n",
       "    <tr>\n",
       "      <th>3</th>\n",
       "      <td>0.000069</td>\n",
       "      <td>0.000133</td>\n",
       "      <td>NaN</td>\n",
       "      <td>NaN</td>\n",
       "      <td>0.000066</td>\n",
       "      <td>0.000132</td>\n",
       "      <td>2023m9</td>\n",
       "      <td>112.5</td>\n",
       "      <td>35</td>\n",
       "      <td>3</td>\n",
       "      <td>...</td>\n",
       "      <td>NaN</td>\n",
       "      <td>NaN</td>\n",
       "      <td>NaN</td>\n",
       "      <td>NaN</td>\n",
       "      <td>NaN</td>\n",
       "      <td>NaN</td>\n",
       "      <td>NaN</td>\n",
       "      <td>NaN</td>\n",
       "      <td>2023</td>\n",
       "      <td>9</td>\n",
       "    </tr>\n",
       "    <tr>\n",
       "      <th>4</th>\n",
       "      <td>0.000785</td>\n",
       "      <td>0.000472</td>\n",
       "      <td>NaN</td>\n",
       "      <td>NaN</td>\n",
       "      <td>0.000756</td>\n",
       "      <td>0.000466</td>\n",
       "      <td>2022m12</td>\n",
       "      <td>35.0</td>\n",
       "      <td>35</td>\n",
       "      <td>3</td>\n",
       "      <td>...</td>\n",
       "      <td>NaN</td>\n",
       "      <td>NaN</td>\n",
       "      <td>NaN</td>\n",
       "      <td>NaN</td>\n",
       "      <td>NaN</td>\n",
       "      <td>NaN</td>\n",
       "      <td>NaN</td>\n",
       "      <td>NaN</td>\n",
       "      <td>2022</td>\n",
       "      <td>12</td>\n",
       "    </tr>\n",
       "  </tbody>\n",
       "</table>\n",
       "<p>5 rows × 613 columns</p>\n",
       "</div>"
      ],
      "text/plain": [
       "   cratio100  icratio100  cratio100_2021m3  icratio100_2021m3  cratio100_nw  \\\n",
       "0   0.000601    0.000361          0.004518           0.002505      0.000579   \n",
       "1   0.000060    0.000117               NaN                NaN      0.000058   \n",
       "2   0.000022    0.000085               NaN                NaN      0.000021   \n",
       "3   0.000069    0.000133               NaN                NaN      0.000066   \n",
       "4   0.000785    0.000472               NaN                NaN      0.000756   \n",
       "\n",
       "   icratio100_nw     date  income  age_quant  agebin  ...  \\\n",
       "0       0.000357   2020m9    35.0         35       3  ...   \n",
       "1       0.000115  2023m10   112.5         25       2  ...   \n",
       "2       0.000084  2022m12   225.0         35       3  ...   \n",
       "3       0.000132   2023m9   112.5         35       3  ...   \n",
       "4       0.000466  2022m12    35.0         35       3  ...   \n",
       "\n",
       "   workday_hours_downtime  workday_pct_videocall  workday_pct_f2fmeeting  \\\n",
       "0                     NaN                    NaN                     NaN   \n",
       "1                     NaN                    NaN                     NaN   \n",
       "2                     NaN                    NaN                     NaN   \n",
       "3                     NaN                    NaN                     NaN   \n",
       "4                     NaN                    NaN                     NaN   \n",
       "\n",
       "   workday_pct_textemail  workday_pct_indivwork  workday_pct_downtime  \\\n",
       "0                    NaN                    NaN                   NaN   \n",
       "1                    NaN                    NaN                   NaN   \n",
       "2                    NaN                    NaN                   NaN   \n",
       "3                    NaN                    NaN                   NaN   \n",
       "4                    NaN                    NaN                   NaN   \n",
       "\n",
       "   wfh_ideal_physical_health  wfh_ideal_mental_health  year  month  \n",
       "0                        NaN                      NaN  2020      9  \n",
       "1                        NaN                      NaN  2023     10  \n",
       "2                        NaN                      NaN  2022     12  \n",
       "3                        NaN                      NaN  2023      9  \n",
       "4                        NaN                      NaN  2022     12  \n",
       "\n",
       "[5 rows x 613 columns]"
      ]
     },
     "execution_count": 5,
     "metadata": {},
     "output_type": "execute_result"
    }
   ],
   "source": [
    "# Function to extract year from the 'date' column\n",
    "def extract_year(date_str):\n",
    "    return int(date_str[:4])\n",
    "\n",
    "# Function to extract month from the 'date' column\n",
    "def extract_month(date_str):\n",
    "    return int(date_str[5:])\n",
    "\n",
    "# Apply the functions to create new columns\n",
    "df['year'] = df['date'].apply(extract_year)\n",
    "df['month'] = df['date'].apply(extract_month)\n",
    "\n",
    "df.head()"
   ]
  },
  {
   "cell_type": "code",
   "execution_count": 6,
   "id": "bf7cb663",
   "metadata": {},
   "outputs": [],
   "source": [
    "# \"keep 'year' & 'month' colunmns\""
   ]
  },
  {
   "cell_type": "markdown",
   "id": "591c50ed",
   "metadata": {},
   "source": [
    "### Participants"
   ]
  },
  {
   "cell_type": "code",
   "execution_count": 7,
   "id": "176b7602",
   "metadata": {},
   "outputs": [],
   "source": [
    "# df.birth_year.value_counts(dropna=False) \n",
    "##What year were you born?\""
   ]
  },
  {
   "cell_type": "code",
   "execution_count": 8,
   "id": "e26e47bb",
   "metadata": {},
   "outputs": [
    {
     "data": {
      "text/plain": [
       "age_quant\n",
       "35    84710\n",
       "45    59857\n",
       "57    52875\n",
       "25    38722\n",
       "Name: count, dtype: int64"
      ]
     },
     "execution_count": 8,
     "metadata": {},
     "output_type": "execute_result"
    }
   ],
   "source": [
    "df.age_quant.value_counts(dropna=False)"
   ]
  },
  {
   "cell_type": "code",
   "execution_count": 9,
   "id": "83942b99",
   "metadata": {},
   "outputs": [
    {
     "data": {
      "text/plain": [
       "agebin\n",
       "3    84710\n",
       "4    59857\n",
       "5    52875\n",
       "2    38722\n",
       "Name: count, dtype: int64"
      ]
     },
     "execution_count": 9,
     "metadata": {},
     "output_type": "execute_result"
    }
   ],
   "source": [
    "df.agebin.value_counts(dropna=False)"
   ]
  },
  {
   "cell_type": "code",
   "execution_count": 10,
   "id": "3d795ad5",
   "metadata": {},
   "outputs": [
    {
     "name": "stdout",
     "output_type": "stream",
     "text": [
      "   Bin Age Range\n",
      "0    3     35-35\n",
      "1    2     25-25\n",
      "2    4     45-45\n",
      "3    5     57-57\n"
     ]
    }
   ],
   "source": [
    "unique_bins = df['agebin'].unique()\n",
    "\n",
    "# Define a function to calculate age range\n",
    "def calculate_age_range(age_quant):\n",
    "    return f\"{age_quant.min()}-{age_quant.max()}\"\n",
    "\n",
    "# Create a list to store bin ranges\n",
    "bin_ranges = []\n",
    "\n",
    "# Calculate age ranges for each bin\n",
    "for bin_value in unique_bins:\n",
    "    age_quant_values = df[df['agebin'] == bin_value]['age_quant']\n",
    "    age_range = calculate_age_range(age_quant_values)\n",
    "    bin_ranges.append({'Bin': bin_value, 'Age Range': age_range})\n",
    "\n",
    "# Create a DataFrame from the list of dictionaries\n",
    "bin_ranges_df = pd.DataFrame(bin_ranges)\n",
    "\n",
    "# Display the DataFrame\n",
    "print(bin_ranges_df)"
   ]
  },
  {
   "cell_type": "code",
   "execution_count": 11,
   "id": "dad27082",
   "metadata": {},
   "outputs": [],
   "source": [
    "## keep column - agebin for modeling"
   ]
  },
  {
   "cell_type": "code",
   "execution_count": 12,
   "id": "1782b686",
   "metadata": {},
   "outputs": [
    {
     "data": {
      "text/plain": [
       "gender_d\n",
       "1.0    119842\n",
       "2.0    112410\n",
       "NaN      2954\n",
       "3.0       958\n",
       "Name: count, dtype: int64"
      ]
     },
     "execution_count": 12,
     "metadata": {},
     "output_type": "execute_result"
    }
   ],
   "source": [
    "df.gender_d.value_counts(dropna=False)\n",
    "## Sex, including 'Other or prefer not to say"
   ]
  },
  {
   "cell_type": "code",
   "execution_count": 13,
   "id": "0f2eb777",
   "metadata": {},
   "outputs": [
    {
     "data": {
      "text/plain": [
       "gender_d\n",
       "1.0    119842\n",
       "2.0    112410\n",
       "3.0      3912\n",
       "Name: count, dtype: int64"
      ]
     },
     "execution_count": 13,
     "metadata": {},
     "output_type": "execute_result"
    }
   ],
   "source": [
    "df.gender_d=df.gender_d.fillna(3.0)\n",
    "df.gender_d.value_counts(dropna=False)"
   ]
  },
  {
   "cell_type": "markdown",
   "id": "1dd63a01",
   "metadata": {},
   "source": [
    "### Education"
   ]
  },
  {
   "cell_type": "code",
   "execution_count": 14,
   "id": "42a75f14",
   "metadata": {
    "scrolled": true
   },
   "outputs": [
    {
     "data": {
      "text/plain": [
       "educ_years\n",
       "16    65473\n",
       "14    57033\n",
       "18    51106\n",
       "12    50539\n",
       "21     8003\n",
       "10     4010\n",
       "Name: count, dtype: int64"
      ]
     },
     "execution_count": 14,
     "metadata": {},
     "output_type": "execute_result"
    }
   ],
   "source": [
    "df.educ_years.value_counts(dropna=False)"
   ]
  },
  {
   "cell_type": "code",
   "execution_count": 15,
   "id": "66c674a2",
   "metadata": {},
   "outputs": [
    {
     "data": {
      "text/plain": [
       "education\n",
       "4    65473\n",
       "3    57033\n",
       "5    51106\n",
       "2    50539\n",
       "6     8003\n",
       "1     4010\n",
       "Name: count, dtype: int64"
      ]
     },
     "execution_count": 15,
     "metadata": {},
     "output_type": "execute_result"
    }
   ],
   "source": [
    "df.education.value_counts(dropna=False)"
   ]
  },
  {
   "cell_type": "code",
   "execution_count": 16,
   "id": "87a092c8",
   "metadata": {},
   "outputs": [
    {
     "data": {
      "text/plain": [
       "education_s\n",
       "4    65473\n",
       "5    59109\n",
       "3    57033\n",
       "2    50539\n",
       "1     4010\n",
       "Name: count, dtype: int64"
      ]
     },
     "execution_count": 16,
     "metadata": {},
     "output_type": "execute_result"
    }
   ],
   "source": [
    "df.education_s.value_counts(dropna=False)"
   ]
  },
  {
   "cell_type": "code",
   "execution_count": 17,
   "id": "8e47284f",
   "metadata": {},
   "outputs": [],
   "source": [
    "## keep column - education_s for modeling"
   ]
  },
  {
   "cell_type": "markdown",
   "id": "922f3b24",
   "metadata": {},
   "source": [
    "### Work status"
   ]
  },
  {
   "cell_type": "code",
   "execution_count": 18,
   "id": "2a654576",
   "metadata": {},
   "outputs": [
    {
     "data": {
      "text/plain": [
       "workstatus_current\n",
       "1.0    95987\n",
       "2.0    82256\n",
       "3.0    49713\n",
       "NaN     8208\n",
       "Name: count, dtype: int64"
      ]
     },
     "execution_count": 18,
     "metadata": {},
     "output_type": "execute_result"
    }
   ],
   "source": [
    "df.workstatus_current.value_counts(dropna=False)\n",
    "##label variable workstatus_current \"Current working status - categorical(2019)\""
   ]
  },
  {
   "cell_type": "code",
   "execution_count": 19,
   "id": "8265bad0",
   "metadata": {},
   "outputs": [
    {
     "data": {
      "text/plain": [
       "workstatus_current_new\n",
       "1.0    175722\n",
       "5.0     19264\n",
       "NaN     13874\n",
       "3.0     13302\n",
       "2.0     11736\n",
       "4.0      2266\n",
       "Name: count, dtype: int64"
      ]
     },
     "execution_count": 19,
     "metadata": {},
     "output_type": "execute_result"
    }
   ],
   "source": [
    "df.workstatus_current_new.value_counts(dropna=False)\n",
    "##Currently (this week) what is your work status? - categorical. Version of the question asked since November 2020\""
   ]
  },
  {
   "cell_type": "code",
   "execution_count": 20,
   "id": "afd6eb08",
   "metadata": {},
   "outputs": [
    {
     "data": {
      "text/plain": [
       "workstatus_current_d\n",
       "NaN    222290\n",
       "2.0      5805\n",
       "1.0      4924\n",
       "4.0      1264\n",
       "3.0      1011\n",
       "5.0       654\n",
       "6.0       216\n",
       "Name: count, dtype: int64"
      ]
     },
     "execution_count": 20,
     "metadata": {},
     "output_type": "execute_result"
    }
   ],
   "source": [
    "df.workstatus_current_d.value_counts(dropna=False)\n",
    "##Currently (this week) what is your work status - detailed version prior to November 2020\""
   ]
  },
  {
   "cell_type": "markdown",
   "id": "ab99af2f",
   "metadata": {},
   "source": [
    "### WFH hours"
   ]
  },
  {
   "cell_type": "code",
   "execution_count": 21,
   "id": "fda1d970",
   "metadata": {
    "scrolled": true
   },
   "outputs": [
    {
     "data": {
      "text/plain": [
       "numwfh_days_postCOVID_s_u\n",
       "0.000000      66515\n",
       "100.000000    62189\n",
       "60.000004     33899\n",
       "40.000000     32611\n",
       "80.000000     21548\n",
       "20.000000     19402\n",
       "Name: count, dtype: int64"
      ]
     },
     "execution_count": 21,
     "metadata": {},
     "output_type": "execute_result"
    }
   ],
   "source": [
    "df.numwfh_days_postCOVID_s_u.value_counts(dropna=False)\n",
    "## Desired share of paid working days WFH after COVID (%)"
   ]
  },
  {
   "cell_type": "code",
   "execution_count": 22,
   "id": "c5cf8a2f",
   "metadata": {},
   "outputs": [
    {
     "data": {
      "text/plain": [
       "wfh_days_postCOVID_s\n",
       "7    62189\n",
       "1    45537\n",
       "5    33899\n",
       "4    32611\n",
       "6    21548\n",
       "2    20978\n",
       "3    19402\n",
       "Name: count, dtype: int64"
      ]
     },
     "execution_count": 22,
     "metadata": {},
     "output_type": "execute_result"
    }
   ],
   "source": [
    "df.wfh_days_postCOVID_s.value_counts(dropna=False)\n",
    "## Desired number of paid WFH days after COVID - categorical"
   ]
  },
  {
   "cell_type": "code",
   "execution_count": 23,
   "id": "4453b53f",
   "metadata": {},
   "outputs": [
    {
     "data": {
      "text/plain": [
       "wfh_days_postCOVID_ss\n",
       "1    66515\n",
       "6    62189\n",
       "4    33899\n",
       "3    32611\n",
       "5    21548\n",
       "2    19402\n",
       "Name: count, dtype: int64"
      ]
     },
     "execution_count": 23,
     "metadata": {},
     "output_type": "execute_result"
    }
   ],
   "source": [
    "df.wfh_days_postCOVID_ss.value_counts(dropna=False)\n",
    "## Desired number of paid WFH days after COVID - categorical, bundling together rarely and never"
   ]
  },
  {
   "cell_type": "code",
   "execution_count": 24,
   "id": "339d664d",
   "metadata": {},
   "outputs": [
    {
     "data": {
      "text/plain": [
       "numwfh_days_postCOVID_boss_s_u\n",
       "0.000000      92464\n",
       "100.000000    32278\n",
       "NaN           30460\n",
       "60.000004     22442\n",
       "40.000000     20741\n",
       "80.000000     18599\n",
       "20.000000     12463\n",
       "50.198910       402\n",
       "52.455791       373\n",
       "56.786800       329\n",
       "53.815720       328\n",
       "54.950642       327\n",
       "54.540146       325\n",
       "53.105480       302\n",
       "54.773533       286\n",
       "52.490162       282\n",
       "53.728535       279\n",
       "54.535950       277\n",
       "54.246269       277\n",
       "54.056335       277\n",
       "54.238022       265\n",
       "56.833778       248\n",
       "52.640247       237\n",
       "55.358940       232\n",
       "52.736069       206\n",
       "53.275158       198\n",
       "41.751545       193\n",
       "55.795280       190\n",
       "54.274353       183\n",
       "54.329494       182\n",
       "53.944462       182\n",
       "49.958664       177\n",
       "52.830441       160\n",
       "Name: count, dtype: int64"
      ]
     },
     "execution_count": 24,
     "metadata": {},
     "output_type": "execute_result"
    }
   ],
   "source": [
    "df.numwfh_days_postCOVID_boss_s_u.value_counts(dropna=False)\n",
    "## Employer planned share of paid working days WFH after COVID (%)"
   ]
  },
  {
   "cell_type": "code",
   "execution_count": 25,
   "id": "7fca8f0f",
   "metadata": {},
   "outputs": [
    {
     "data": {
      "text/plain": [
       "wfh_days_postCOVID_boss\n",
       "1.0    64152\n",
       "7.0    32278\n",
       "9.0    27053\n",
       "8.0    25280\n",
       "5.0    22442\n",
       "4.0    20741\n",
       "6.0    18599\n",
       "3.0    12463\n",
       "2.0     9749\n",
       "NaN     3407\n",
       "Name: count, dtype: int64"
      ]
     },
     "execution_count": 25,
     "metadata": {},
     "output_type": "execute_result"
    }
   ],
   "source": [
    "df.wfh_days_postCOVID_boss.value_counts(dropna=False)\n",
    "## Employer's planned number of paid WFH days after COVID - categorical"
   ]
  },
  {
   "cell_type": "code",
   "execution_count": 73,
   "id": "bfc4c39c",
   "metadata": {},
   "outputs": [
    {
     "data": {
      "text/plain": [
       "numwfh_days_postCOVID_boss_s_u_l\n",
       "0.000000      99181\n",
       "100.000000    32278\n",
       "NaN           30460\n",
       "60.000004     22442\n",
       "40.000000     20741\n",
       "80.000000     18599\n",
       "20.000000     12463\n",
       "Name: count, dtype: int64"
      ]
     },
     "execution_count": 73,
     "metadata": {},
     "output_type": "execute_result"
    }
   ],
   "source": [
    "df.numwfh_days_postCOVID_boss_s_u_l.value_counts(dropna=False)\n",
    "## Employer planned share of paid working days WFH after COVID (%) - this version does not reclassify workers w/o clear indications from their employers based on current working status"
   ]
  },
  {
   "cell_type": "code",
   "execution_count": 26,
   "id": "94123510",
   "metadata": {},
   "outputs": [
    {
     "data": {
      "text/plain": [
       "wfh_days_postCOVID_boss_ss\n",
       "1.0    73901\n",
       "6.0    32278\n",
       "8.0    27053\n",
       "7.0    25280\n",
       "4.0    22442\n",
       "3.0    20741\n",
       "5.0    18599\n",
       "2.0    12463\n",
       "NaN     3407\n",
       "Name: count, dtype: int64"
      ]
     },
     "execution_count": 26,
     "metadata": {},
     "output_type": "execute_result"
    }
   ],
   "source": [
    "df.wfh_days_postCOVID_boss_ss.value_counts(dropna=False)\n",
    "## Employer's planned number of paid WFH days after COVID - categorical, bundling together rarely and never"
   ]
  },
  {
   "cell_type": "code",
   "execution_count": 27,
   "id": "8b048931",
   "metadata": {},
   "outputs": [
    {
     "data": {
      "text/plain": [
       "employer_arr_qual\n",
       "NaN    232618\n",
       "1.0      1711\n",
       "2.0       849\n",
       "4.0       470\n",
       "3.0       448\n",
       "5.0        68\n",
       "Name: count, dtype: int64"
      ]
     },
     "execution_count": 27,
     "metadata": {},
     "output_type": "execute_result"
    }
   ],
   "source": [
    "df.employer_arr_qual.value_counts(dropna=False)\n",
    "## What plans does your employer have for working arrangements of full-time (employees after COVID, in 2022 or later?)"
   ]
  },
  {
   "cell_type": "code",
   "execution_count": 28,
   "id": "88afde27",
   "metadata": {},
   "outputs": [
    {
     "data": {
      "text/plain": [
       "workstatus_monday\n",
       "3.0    85797\n",
       "NaN    66624\n",
       "2.0    43113\n",
       "1.0    40630\n",
       "Name: count, dtype: int64"
      ]
     },
     "execution_count": 28,
     "metadata": {},
     "output_type": "execute_result"
    }
   ],
   "source": [
    "df.workstatus_monday.value_counts(dropna=False)\n",
    "## For each day last week, did you work a full day (6 or more hours), and if so where (i.e. from home, on employer or client premises)?\n",
    "# 1 \"Did not work\" 2 \"Worked from home\" 3 \"Worked on employer or client premises\""
   ]
  },
  {
   "cell_type": "markdown",
   "id": "b29a5e5c",
   "metadata": {},
   "source": [
    "### Commute Time (minuts)"
   ]
  },
  {
   "cell_type": "code",
   "execution_count": 29,
   "id": "a624b085",
   "metadata": {},
   "outputs": [
    {
     "data": {
      "text/plain": [
       "commutetime_quant\n",
       "NaN      39132\n",
       "30.0     21429\n",
       "15.0     17609\n",
       "0.0      16758\n",
       "20.0     16755\n",
       "         ...  \n",
       "113.5        1\n",
       "98.5         1\n",
       "90.5         1\n",
       "27.1         1\n",
       "100.5        1\n",
       "Name: count, Length: 242, dtype: int64"
      ]
     },
     "execution_count": 29,
     "metadata": {},
     "output_type": "execute_result"
    }
   ],
   "source": [
    "df.commutetime_quant.value_counts(dropna=False)\n",
    "## Commute time (mins)"
   ]
  },
  {
   "cell_type": "code",
   "execution_count": 30,
   "id": "f3c6f728",
   "metadata": {},
   "outputs": [
    {
     "data": {
      "text/plain": [
       "wfh_extraeff_comm_qual\n",
       "NaN    165294\n",
       "1.0     61143\n",
       "2.0      9727\n",
       "Name: count, dtype: int64"
      ]
     },
     "execution_count": 30,
     "metadata": {},
     "output_type": "execute_result"
    }
   ],
   "source": [
    "df.wfh_extraeff_comm_qual.value_counts(dropna=False)\n",
    "##Is time saved by not commuting part of your extra efficiency when working from home? - categorical\n",
    "###DO NOT KEEP - TO MANY NaNs###"
   ]
  },
  {
   "cell_type": "code",
   "execution_count": 31,
   "id": "1e8f20b5",
   "metadata": {},
   "outputs": [
    {
     "data": {
      "text/plain": [
       "wfh_extraeff_comm_quant\n",
       "NaN      98543\n",
       "0.0      81279\n",
       "100.0    15358\n",
       "80.0      1528\n",
       "85.0      1360\n",
       "         ...  \n",
       "6.0         31\n",
       "4.0         23\n",
       "3.0         15\n",
       "2.0         14\n",
       "1.0          6\n",
       "Name: count, Length: 101, dtype: int64"
      ]
     },
     "execution_count": 31,
     "metadata": {},
     "output_type": "execute_result"
    }
   ],
   "source": [
    "df.wfh_extraeff_comm_quant.value_counts(dropna=False)\n",
    "## How much of your extra efficiency when working from home is due to the time you save by not commuting? -- This equals zero if commuting time savings are not included, or if relative efficiency of WFH is negative \""
   ]
  },
  {
   "cell_type": "code",
   "execution_count": 32,
   "id": "d9617c13",
   "metadata": {},
   "outputs": [
    {
     "data": {
      "text/plain": [
       "extratime_1stjob\n",
       "NaN     98105\n",
       "0.0     29335\n",
       "10.0    22671\n",
       "20.0    21294\n",
       "50.0     9225\n",
       "        ...  \n",
       "87.0        4\n",
       "77.0        3\n",
       "73.0        3\n",
       "71.0        3\n",
       "79.0        2\n",
       "Name: count, Length: 104, dtype: int64"
      ]
     },
     "execution_count": 32,
     "metadata": {},
     "output_type": "execute_result"
    }
   ],
   "source": [
    "df.extratime_1stjob.value_counts(dropna=False)\n",
    "##Percent of commute time savings spent working on primary or current job"
   ]
  },
  {
   "cell_type": "code",
   "execution_count": 33,
   "id": "a6e5b598",
   "metadata": {},
   "outputs": [
    {
     "data": {
      "text/plain": [
       "commutetime_towork\n",
       " NaN     76557\n",
       " 30.0    22903\n",
       " 20.0    18529\n",
       " 15.0    17007\n",
       " 0.0     14844\n",
       "         ...  \n",
       " 61.0        9\n",
       " 74.0        9\n",
       " 73.0        8\n",
       " 71.0        2\n",
       "-20.0        1\n",
       "Name: count, Length: 83, dtype: int64"
      ]
     },
     "execution_count": 33,
     "metadata": {},
     "output_type": "execute_result"
    }
   ],
   "source": [
    "# pd.set_option('display.max_rows', None)\n",
    "df.commutetime_towork.value_counts(dropna=False)\n",
    "## How long do you usually spend commuting to work (in minutes)?\""
   ]
  },
  {
   "cell_type": "code",
   "execution_count": 34,
   "id": "a5b9aee0",
   "metadata": {},
   "outputs": [
    {
     "data": {
      "text/plain": [
       "commutetime_fromwork\n",
       " NaN     76557\n",
       " 30.0    22901\n",
       " 20.0    18196\n",
       " 15.0    16103\n",
       " 0.0     14934\n",
       "         ...  \n",
       " 76.0       11\n",
       " 79.0        9\n",
       " 71.0        5\n",
       " 73.0        4\n",
       "-20.0        1\n",
       "Name: count, Length: 83, dtype: int64"
      ]
     },
     "execution_count": 34,
     "metadata": {},
     "output_type": "execute_result"
    }
   ],
   "source": [
    "df.commutetime_fromwork.value_counts(dropna=False) \n",
    "##How long do you usually spend commuting from work (in minutes)?\""
   ]
  },
  {
   "cell_type": "code",
   "execution_count": 35,
   "id": "f2d4eb9c",
   "metadata": {},
   "outputs": [
    {
     "data": {
      "text/plain": [
       "wfh_top3benefits_commute\n",
       "NaN      171082\n",
       "0.0       40306\n",
       "100.0     24776\n",
       "Name: count, dtype: int64"
      ]
     },
     "execution_count": 35,
     "metadata": {},
     "output_type": "execute_result"
    }
   ],
   "source": [
    "df.wfh_top3benefits_commute.value_counts(dropna=False)\n",
    "##Top 3 benefits of WFH include: No commute\""
   ]
  },
  {
   "cell_type": "markdown",
   "id": "e30a94ff",
   "metadata": {},
   "source": [
    "### Effectivity "
   ]
  },
  {
   "cell_type": "code",
   "execution_count": 36,
   "id": "f90e73a7",
   "metadata": {},
   "outputs": [
    {
     "data": {
      "text/plain": [
       "labsearch_qual\n",
       "NaN    227603\n",
       "2.0      3759\n",
       "3.0      2665\n",
       "1.0      2137\n",
       "Name: count, dtype: int64"
      ]
     },
     "execution_count": 36,
     "metadata": {},
     "output_type": "execute_result"
    }
   ],
   "source": [
    "df.labsearch_qual.value_counts(dropna=False)\n",
    "## Which of the following best describes your job search (with respect to WFH)?\n",
    "# 1 \"Only considering WFH jobs\" 2 \"Prefer jobs allowing WFH\" 3 \"No preference about WFH\""
   ]
  },
  {
   "cell_type": "code",
   "execution_count": 37,
   "id": "a67cdbe0",
   "metadata": {},
   "outputs": [
    {
     "data": {
      "text/plain": [
       "lesseff_reasons_homecomputer\n",
       "NaN    234444\n",
       "0.0      1542\n",
       "1.0       178\n",
       "Name: count, dtype: int64"
      ]
     },
     "execution_count": 37,
     "metadata": {},
     "output_type": "execute_result"
    }
   ],
   "source": [
    "df.lesseff_reasons_homecomputer.value_counts(dropna=False)\n",
    "## \"Why are you less efficient when working from home? - My home computer is not good enough\""
   ]
  },
  {
   "cell_type": "code",
   "execution_count": 38,
   "id": "7f17a02d",
   "metadata": {},
   "outputs": [
    {
     "data": {
      "text/plain": [
       "moreeff_reasons_equip\n",
       "NaN    226264\n",
       "0.0      7231\n",
       "1.0      2669\n",
       "Name: count, dtype: int64"
      ]
     },
     "execution_count": 38,
     "metadata": {},
     "output_type": "execute_result"
    }
   ],
   "source": [
    "df.moreeff_reasons_equip.value_counts(dropna=False)\n",
    "## Apart from saving time by not commuting, why are you more efficient when working from home? - I have better equipment at home than at work\""
   ]
  },
  {
   "cell_type": "code",
   "execution_count": 39,
   "id": "cde1ab93",
   "metadata": {
    "scrolled": true
   },
   "outputs": [
    {
     "data": {
      "text/plain": [
       "wfh_hoursinvest\n",
       "NaN      222478\n",
       "5.0        1685\n",
       "10.0       1502\n",
       "0.0        1422\n",
       "2.0        1274\n",
       "          ...  \n",
       "148.0         1\n",
       "51.0          1\n",
       "128.0         1\n",
       "53.0          1\n",
       "87.0          1\n",
       "Name: count, Length: 107, dtype: int64"
      ]
     },
     "execution_count": 39,
     "metadata": {},
     "output_type": "execute_result"
    }
   ],
   "source": [
    "df.wfh_hoursinvest.value_counts(dropna=False)\n",
    "## Hours invested in learning how to WFH effectively"
   ]
  },
  {
   "cell_type": "code",
   "execution_count": 40,
   "id": "727f11f6",
   "metadata": {},
   "outputs": [
    {
     "data": {
      "text/plain": [
       "wfh_able_quant\n",
       "NaN      214024\n",
       "0.0        6761\n",
       "100.0      5537\n",
       "90.0       2909\n",
       "80.0       1897\n",
       "          ...  \n",
       "46.0          1\n",
       "52.0          1\n",
       "28.0          1\n",
       "188.0         1\n",
       "38.0          1\n",
       "Name: count, Length: 202, dtype: int64"
      ]
     },
     "execution_count": 40,
     "metadata": {},
     "output_type": "execute_result"
    }
   ],
   "source": [
    "df.wfh_able_quant.value_counts(dropna=False)\n",
    "## How efficient are you at working from home? (%)"
   ]
  },
  {
   "cell_type": "code",
   "execution_count": 41,
   "id": "2e060d4e",
   "metadata": {},
   "outputs": [
    {
     "data": {
      "text/plain": [
       "wfh_eff_COVID_qual\n",
       "NaN    204194\n",
       "1.0     15614\n",
       "2.0     12648\n",
       "3.0      3708\n",
       "Name: count, dtype: int64"
      ]
     },
     "execution_count": 41,
     "metadata": {},
     "output_type": "execute_result"
    }
   ],
   "source": [
    "df.wfh_eff_COVID_qual.value_counts(dropna=False)\n",
    "## How does your efficiency working from compare to your efficiency working on business premises before the pandemic? - categorical"
   ]
  },
  {
   "cell_type": "code",
   "execution_count": 42,
   "id": "9b024d15",
   "metadata": {},
   "outputs": [
    {
     "data": {
      "text/plain": [
       "wfh_invest_quant\n",
       "NaN       222494\n",
       "0.0         3244\n",
       "500.0        994\n",
       "100.0        960\n",
       "1000.0       791\n",
       "           ...  \n",
       "525.0          1\n",
       "359.0          1\n",
       "880.0          1\n",
       "662.0          1\n",
       "293.0          1\n",
       "Name: count, Length: 429, dtype: int64"
      ]
     },
     "execution_count": 42,
     "metadata": {},
     "output_type": "execute_result"
    }
   ],
   "source": [
    "df.wfh_invest_quant.value_counts(dropna=False)\n",
    "## Money you & your employer invested in equipment/infrastructure to help you WFH effectively"
   ]
  },
  {
   "cell_type": "code",
   "execution_count": 43,
   "id": "558b42ec",
   "metadata": {},
   "outputs": [
    {
     "data": {
      "text/plain": [
       "wfh_eff_COVID_pos_d\n",
       "NaN    221771\n",
       "4.0      3238\n",
       "3.0      3049\n",
       "6.0      2900\n",
       "5.0      2721\n",
       "2.0      1899\n",
       "1.0       586\n",
       "Name: count, dtype: int64"
      ]
     },
     "execution_count": 43,
     "metadata": {},
     "output_type": "execute_result"
    }
   ],
   "source": [
    "df.wfh_eff_COVID_pos_d.value_counts(dropna=False)"
   ]
  },
  {
   "cell_type": "code",
   "execution_count": 44,
   "id": "8cb9e4d4",
   "metadata": {},
   "outputs": [
    {
     "data": {
      "text/plain": [
       "wfh_invest_burs\n",
       "NaN      226152\n",
       "100.0      2298\n",
       "0.0        1134\n",
       "80.0        218\n",
       "50.0        212\n",
       "          ...  \n",
       "34.0         11\n",
       "22.0          9\n",
       "13.0          9\n",
       "7.0           9\n",
       "37.0          7\n",
       "Name: count, Length: 102, dtype: int64"
      ]
     },
     "execution_count": 44,
     "metadata": {},
     "output_type": "execute_result"
    }
   ],
   "source": [
    "df.wfh_invest_burs.value_counts(dropna=False)\n",
    "## Percent of money invested in equipment or infrastructure enabling WFH that was paid for or reimbursed by employer. Missing if no WFH or zero investment"
   ]
  },
  {
   "cell_type": "code",
   "execution_count": 45,
   "id": "dd778f33",
   "metadata": {},
   "outputs": [
    {
     "data": {
      "text/plain": [
       "videocalls_preCOVID_percent\n",
       "NaN     229725\n",
       "0.0       2032\n",
       "10.0       514\n",
       "50.0       493\n",
       "20.0       433\n",
       "         ...  \n",
       "51.0         1\n",
       "73.0         1\n",
       "74.0         1\n",
       "63.0         1\n",
       "84.0         1\n",
       "Name: count, Length: 95, dtype: int64"
      ]
     },
     "execution_count": 45,
     "metadata": {},
     "output_type": "execute_result"
    }
   ],
   "source": [
    "df.videocalls_preCOVID_percent.value_counts(dropna=False) \n",
    "##Before the pandemic, what percentage of your normal working day did you spend in video calls?\""
   ]
  },
  {
   "cell_type": "code",
   "execution_count": 46,
   "id": "235450bb",
   "metadata": {},
   "outputs": [
    {
     "data": {
      "text/plain": [
       "videocalls_current_percent\n",
       "NaN     229725\n",
       "0.0       1541\n",
       "50.0       591\n",
       "10.0       447\n",
       "20.0       447\n",
       "         ...  \n",
       "71.0         1\n",
       "46.0         1\n",
       "73.0         1\n",
       "92.0         1\n",
       "31.0         1\n",
       "Name: count, Length: 96, dtype: int64"
      ]
     },
     "execution_count": 46,
     "metadata": {},
     "output_type": "execute_result"
    }
   ],
   "source": [
    "df.videocalls_current_percent.value_counts(dropna=False) \n",
    "##Currently, what percentage of your normal working day do you spend in video calls?\""
   ]
  },
  {
   "cell_type": "code",
   "execution_count": 47,
   "id": "5d17fe01",
   "metadata": {},
   "outputs": [
    {
     "data": {
      "text/plain": [
       "multitask_during_calls_num\n",
       "NaN     233698\n",
       "20.0       466\n",
       "10.0       360\n",
       "50.0       234\n",
       "0.0        157\n",
       "         ...  \n",
       "46.0         1\n",
       "81.0         1\n",
       "37.0         1\n",
       "62.0         1\n",
       "53.0         1\n",
       "Name: count, Length: 66, dtype: int64"
      ]
     },
     "execution_count": 47,
     "metadata": {},
     "output_type": "execute_result"
    }
   ],
   "source": [
    "df.multitask_during_calls_num.value_counts(dropna=False)  \n",
    "##When you are on work calls on Zoom/Teams/Webex what share of the time are you multi-tasking? - numerical\""
   ]
  },
  {
   "cell_type": "code",
   "execution_count": 48,
   "id": "d3cd83c6",
   "metadata": {},
   "outputs": [
    {
     "data": {
      "text/plain": [
       "multitask_during_calls_cat\n",
       "NaN    233737\n",
       "2.0       737\n",
       "1.0       697\n",
       "3.0       574\n",
       "4.0       265\n",
       "5.0       154\n",
       "Name: count, dtype: int64"
      ]
     },
     "execution_count": 48,
     "metadata": {},
     "output_type": "execute_result"
    }
   ],
   "source": [
    "df.multitask_during_calls_cat.value_counts(dropna=False)  \n",
    "##When you are on work calls on Zoom/Teams/Webex what share of the time are you multi-tasking? - categorical\""
   ]
  },
  {
   "cell_type": "code",
   "execution_count": 49,
   "id": "9f6cdb37",
   "metadata": {},
   "outputs": [
    {
     "data": {
      "text/plain": [
       "multitask_during_calls_catq\n",
       "NaN     233737\n",
       "30.0       737\n",
       "10.0       697\n",
       "50.0       574\n",
       "70.0       265\n",
       "90.0       154\n",
       "Name: count, dtype: int64"
      ]
     },
     "execution_count": 49,
     "metadata": {},
     "output_type": "execute_result"
    }
   ],
   "source": [
    "df.multitask_during_calls_catq.value_counts(dropna=False)  \n",
    "##When you are on work calls on Zoom/Teams/Webex what share of the time are you multi-tasking? - quantitative from cat\""
   ]
  },
  {
   "cell_type": "code",
   "execution_count": 50,
   "id": "75df956b",
   "metadata": {},
   "outputs": [],
   "source": [
    "# label variable offer_employed_wfh1days \"Would you be more or less likely  to take the new job if it let you work from home 1 day a week? - categorical, employed respondents\"\n",
    "# label variable offer_employed_wfh23days \"Would you be more or less likely  to take the new job if it let you work from home 2 to 3 day a week? - categorical, employed respondents\"\n",
    "# label variable offer_employed_wfh45days \"Would you be more or less likely  to take the new job if it let you work from home 4 to 5 day a week? - categorical, employed respondents\"\n",
    "\n",
    "# label variable offer_unemployed_wfh1days \"Would you be more or less likely  to take the job if it let you work from home 1 day a week? - categorical, unemployed respondents\"\n",
    "# label variable offer_unemployed_wfh23days \"Would you be more or less likely  to take the job if it let you work from home 2 to 3 day a week? - categorical, unemployed respondents\"\n",
    "# label variable offer_unemployed_wfh45days \"Would you be more or less likely  to take the job if it let you work from home 4 to 5 day a week? - categorical, unemployed respondents\"\n"
   ]
  },
  {
   "cell_type": "code",
   "execution_count": 51,
   "id": "0e4c3e4c",
   "metadata": {},
   "outputs": [
    {
     "data": {
      "text/plain": [
       "offer_employed_wfh1days\n",
       "NaN    233204\n",
       "1.0      1514\n",
       "2.0      1001\n",
       "3.0       445\n",
       "Name: count, dtype: int64"
      ]
     },
     "execution_count": 51,
     "metadata": {},
     "output_type": "execute_result"
    }
   ],
   "source": [
    "df.offer_employed_wfh1days.value_counts(dropna=False)  "
   ]
  },
  {
   "cell_type": "code",
   "execution_count": 52,
   "id": "203041e4",
   "metadata": {},
   "outputs": [
    {
     "data": {
      "text/plain": [
       "two_video_calls\n",
       "NaN    231257\n",
       "1.0      2417\n",
       "2.0      1448\n",
       "3.0       801\n",
       "4.0       241\n",
       "Name: count, dtype: int64"
      ]
     },
     "execution_count": 52,
     "metadata": {},
     "output_type": "execute_result"
    }
   ],
   "source": [
    "df.two_video_calls.value_counts(dropna=False)  "
   ]
  },
  {
   "cell_type": "markdown",
   "id": "37322a30",
   "metadata": {},
   "source": [
    "### Income"
   ]
  },
  {
   "cell_type": "code",
   "execution_count": 53,
   "id": "b70dd509",
   "metadata": {},
   "outputs": [
    {
     "data": {
      "text/plain": [
       "work_industry\n",
       "6.0     30287\n",
       "11.0    25347\n",
       "3.0     23891\n",
       "5.0     20319\n",
       "4.0     19421\n",
       "13.0    17653\n",
       "9.0     16688\n",
       "8.0     14584\n",
       "7.0     13389\n",
       "17.0    10064\n",
       "14.0     9376\n",
       "18.0     7897\n",
       "NaN      6689\n",
       "2.0      5763\n",
       "1.0      3970\n",
       "12.0     3762\n",
       "15.0     3024\n",
       "16.0     3004\n",
       "10.0     1036\n",
       "Name: count, dtype: int64"
      ]
     },
     "execution_count": 53,
     "metadata": {},
     "output_type": "execute_result"
    }
   ],
   "source": [
    "df.work_industry.value_counts(dropna=False)\n",
    "## Industry of current or most recent job"
   ]
  },
  {
   "cell_type": "code",
   "execution_count": 54,
   "id": "792c1560",
   "metadata": {},
   "outputs": [
    {
     "data": {
      "text/plain": [
       "occupation\n",
       "12.0    49289\n",
       "5.0     39261\n",
       "10.0    24952\n",
       "6.0     24733\n",
       "8.0     24114\n",
       "9.0     20200\n",
       "2.0     14343\n",
       "7.0     13858\n",
       "11.0     7308\n",
       "4.0      6835\n",
       "NaN      4346\n",
       "3.0      3602\n",
       "1.0      3323\n",
       "Name: count, dtype: int64"
      ]
     },
     "execution_count": 54,
     "metadata": {},
     "output_type": "execute_result"
    }
   ],
   "source": [
    "df.occupation.value_counts(dropna=False)"
   ]
  },
  {
   "cell_type": "code",
   "execution_count": 55,
   "id": "eec3a27e",
   "metadata": {},
   "outputs": [
    {
     "data": {
      "text/plain": [
       "iincomebin\n",
       "1.0    78431\n",
       "2.0    73200\n",
       "3.0    39544\n",
       "4.0    35355\n",
       "0.0     9030\n",
       "NaN      604\n",
       "Name: count, dtype: int64"
      ]
     },
     "execution_count": 55,
     "metadata": {},
     "output_type": "execute_result"
    }
   ],
   "source": [
    "df.iincomebin.value_counts(dropna=False)"
   ]
  },
  {
   "cell_type": "code",
   "execution_count": 56,
   "id": "57f544ff",
   "metadata": {},
   "outputs": [
    {
     "data": {
      "text/plain": [
       "iincomebin\n",
       "1.0    78431\n",
       "2.0    73200\n",
       "3.0    39544\n",
       "4.0    35355\n",
       "0.0     9634\n",
       "Name: count, dtype: int64"
      ]
     },
     "execution_count": 56,
     "metadata": {},
     "output_type": "execute_result"
    }
   ],
   "source": [
    "df.iincomebin=df.iincomebin.fillna(0.0)\n",
    "df.iincomebin.value_counts(dropna=False)"
   ]
  },
  {
   "cell_type": "code",
   "execution_count": 57,
   "id": "eee4af2e",
   "metadata": {},
   "outputs": [
    {
     "data": {
      "text/plain": [
       "income_year\n",
       "2022    83093\n",
       "2019    76215\n",
       "2021    65282\n",
       "2023    11574\n",
       "Name: count, dtype: int64"
      ]
     },
     "execution_count": 57,
     "metadata": {},
     "output_type": "execute_result"
    }
   ],
   "source": [
    "df.income_year.value_counts(dropna=False)"
   ]
  },
  {
   "cell_type": "markdown",
   "id": "df674023",
   "metadata": {},
   "source": [
    "### Preference"
   ]
  },
  {
   "cell_type": "code",
   "execution_count": 58,
   "id": "a939a52e",
   "metadata": {},
   "outputs": [
    {
     "data": {
      "text/plain": [
       "wfh_feel_new_qual\n",
       "NaN    195936\n",
       "1.0     20609\n",
       "2.0     15039\n",
       "3.0      4580\n",
       "Name: count, dtype: int64"
      ]
     },
     "execution_count": 58,
     "metadata": {},
     "output_type": "execute_result"
    }
   ],
   "source": [
    "df.wfh_feel_new_qual.value_counts(dropna=False)\n",
    "##Assuming it doesn’t matter for your pay, which working arrangements would you prefer after COVID is under control? - categorical"
   ]
  },
  {
   "cell_type": "code",
   "execution_count": 59,
   "id": "1363e2de",
   "metadata": {},
   "outputs": [
    {
     "data": {
      "text/plain": [
       "employer_arr_qual\n",
       "NaN    232618\n",
       "1.0      1711\n",
       "2.0       849\n",
       "4.0       470\n",
       "3.0       448\n",
       "5.0        68\n",
       "Name: count, dtype: int64"
      ]
     },
     "execution_count": 59,
     "metadata": {},
     "output_type": "execute_result"
    }
   ],
   "source": [
    "df.employer_arr_qual.value_counts(dropna=False)\n",
    "## What plans does your employer have for working arrangements of full-time employees after COVID, in 2022 or later?\""
   ]
  },
  {
   "cell_type": "code",
   "execution_count": 60,
   "id": "dbc70bc7",
   "metadata": {},
   "outputs": [
    {
     "data": {
      "text/plain": [
       "wfh_less_stress\n",
       "NaN     233384\n",
       "10.0       741\n",
       "8.0        453\n",
       "7.0        361\n",
       "5.0        283\n",
       "9.0        269\n",
       "6.0        235\n",
       "0.0        142\n",
       "4.0        108\n",
       "3.0         82\n",
       "2.0         62\n",
       "1.0         44\n",
       "Name: count, dtype: int64"
      ]
     },
     "execution_count": 60,
     "metadata": {},
     "output_type": "execute_result"
    }
   ],
   "source": [
    "df.wfh_less_stress.value_counts(dropna=False)\n",
    "##On a scale of 0 to 10, how much do you agree with the following statement? \"While working from home I am less stressed because I don't feel like I am constantly under supervision.\""
   ]
  },
  {
   "cell_type": "markdown",
   "id": "e1343aac",
   "metadata": {},
   "source": [
    "## Top 3 benefits"
   ]
  },
  {
   "cell_type": "code",
   "execution_count": 61,
   "id": "23c072f5",
   "metadata": {},
   "outputs": [
    {
     "data": {
      "text/plain": [
       "wfh_top3benefits_commute\n",
       "NaN      171082\n",
       "0.0       40306\n",
       "100.0     24776\n",
       "Name: count, dtype: int64"
      ]
     },
     "execution_count": 61,
     "metadata": {},
     "output_type": "execute_result"
    }
   ],
   "source": [
    "df.wfh_top3benefits_commute.value_counts(dropna=False) \n",
    "##Top 3 benefits of WFH include: No commute"
   ]
  },
  {
   "cell_type": "code",
   "execution_count": 62,
   "id": "2e97a278",
   "metadata": {},
   "outputs": [
    {
     "data": {
      "text/plain": [
       "wfh_top3benefits_groom\n",
       "NaN      171082\n",
       "0.0       41885\n",
       "100.0     23197\n",
       "Name: count, dtype: int64"
      ]
     },
     "execution_count": 62,
     "metadata": {},
     "output_type": "execute_result"
    }
   ],
   "source": [
    "df.wfh_top3benefits_groom.value_counts(dropna=False) \n",
    "##Top 3 benefits of WFH include: Less time getting ready\""
   ]
  },
  {
   "cell_type": "code",
   "execution_count": 63,
   "id": "9ef8abdc",
   "metadata": {},
   "outputs": [
    {
     "data": {
      "text/plain": [
       "wbp_top3benefits_equip\n",
       "NaN      171076\n",
       "0.0       39670\n",
       "100.0     25418\n",
       "Name: count, dtype: int64"
      ]
     },
     "execution_count": 63,
     "metadata": {},
     "output_type": "execute_result"
    }
   ],
   "source": [
    "df.wbp_top3benefits_equip.value_counts(dropna=False) \n",
    "##Top 3 benefits of WBP include: Better equipment\"\n"
   ]
  },
  {
   "cell_type": "markdown",
   "id": "16bd067a",
   "metadata": {},
   "source": [
    "### LIFE RANK PRIORITIES"
   ]
  },
  {
   "cell_type": "code",
   "execution_count": 64,
   "id": "13614cfe",
   "metadata": {},
   "outputs": [
    {
     "data": {
      "text/plain": [
       "life_rank_family\n",
       "NaN    232529\n",
       "1.0      1994\n",
       "2.0       833\n",
       "3.0       293\n",
       "4.0       215\n",
       "5.0       152\n",
       "6.0       148\n",
       "Name: count, dtype: int64"
      ]
     },
     "execution_count": 64,
     "metadata": {},
     "output_type": "execute_result"
    }
   ],
   "source": [
    "df.life_rank_family.value_counts(dropna=False) "
   ]
  },
  {
   "cell_type": "markdown",
   "id": "8f2bf60c",
   "metadata": {},
   "source": [
    "label variable life_rank_family \"Life priorities: Family (1 = Most important)\"\n",
    "label variable life_rank_friends \"Life priorities: Friends (1 = Most important)\"\n",
    "label variable life_rank_work \"Life priorities: Work (1 = Most important)\"\n",
    "label variable life_rank_politics \"Life priorities: Politics (1 = Most important)\"\n",
    "label variable life_rank_leisure \"Life priorities: Leisure time (1 = Most important)\"\n",
    "label variable life_rank_religion \"Life priorities: Religion/spirituality (1 = Most important)\""
   ]
  },
  {
   "cell_type": "markdown",
   "id": "1228c754",
   "metadata": {},
   "source": [
    "## Columns to Keep 4 - Boss desires"
   ]
  },
  {
   "cell_type": "code",
   "execution_count": 74,
   "id": "0c5bcf26",
   "metadata": {},
   "outputs": [],
   "source": [
    "columns_to_keep4 = ['wfh_days_postCOVID_s','wfh_days_postCOVID_ss','numwfh_days_postCOVID_boss_s_u','wfh_days_postCOVID_boss','wfh_days_postCOVID_boss_ss','year','month']\n",
    "columns_to_drop4 = [col for col in df.columns if col not in columns_to_keep4]"
   ]
  },
  {
   "cell_type": "code",
   "execution_count": 75,
   "id": "8e797204",
   "metadata": {},
   "outputs": [
    {
     "data": {
      "text/plain": [
       "(236164, 7)"
      ]
     },
     "metadata": {},
     "output_type": "display_data"
    },
    {
     "data": {
      "text/html": [
       "<div>\n",
       "<style scoped>\n",
       "    .dataframe tbody tr th:only-of-type {\n",
       "        vertical-align: middle;\n",
       "    }\n",
       "\n",
       "    .dataframe tbody tr th {\n",
       "        vertical-align: top;\n",
       "    }\n",
       "\n",
       "    .dataframe thead th {\n",
       "        text-align: right;\n",
       "    }\n",
       "</style>\n",
       "<table border=\"1\" class=\"dataframe\">\n",
       "  <thead>\n",
       "    <tr style=\"text-align: right;\">\n",
       "      <th></th>\n",
       "      <th>numwfh_days_postCOVID_boss_s_u</th>\n",
       "      <th>wfh_days_postCOVID_s</th>\n",
       "      <th>wfh_days_postCOVID_ss</th>\n",
       "      <th>wfh_days_postCOVID_boss</th>\n",
       "      <th>wfh_days_postCOVID_boss_ss</th>\n",
       "      <th>year</th>\n",
       "      <th>month</th>\n",
       "    </tr>\n",
       "  </thead>\n",
       "  <tbody>\n",
       "    <tr>\n",
       "      <th>0</th>\n",
       "      <td>0.0</td>\n",
       "      <td>2</td>\n",
       "      <td>1</td>\n",
       "      <td>1.0</td>\n",
       "      <td>1.0</td>\n",
       "      <td>2020</td>\n",
       "      <td>9</td>\n",
       "    </tr>\n",
       "    <tr>\n",
       "      <th>1</th>\n",
       "      <td>40.0</td>\n",
       "      <td>2</td>\n",
       "      <td>1</td>\n",
       "      <td>4.0</td>\n",
       "      <td>3.0</td>\n",
       "      <td>2023</td>\n",
       "      <td>10</td>\n",
       "    </tr>\n",
       "    <tr>\n",
       "      <th>2</th>\n",
       "      <td>80.0</td>\n",
       "      <td>6</td>\n",
       "      <td>5</td>\n",
       "      <td>6.0</td>\n",
       "      <td>5.0</td>\n",
       "      <td>2022</td>\n",
       "      <td>12</td>\n",
       "    </tr>\n",
       "    <tr>\n",
       "      <th>3</th>\n",
       "      <td>40.0</td>\n",
       "      <td>3</td>\n",
       "      <td>2</td>\n",
       "      <td>4.0</td>\n",
       "      <td>3.0</td>\n",
       "      <td>2023</td>\n",
       "      <td>9</td>\n",
       "    </tr>\n",
       "    <tr>\n",
       "      <th>4</th>\n",
       "      <td>80.0</td>\n",
       "      <td>3</td>\n",
       "      <td>2</td>\n",
       "      <td>6.0</td>\n",
       "      <td>5.0</td>\n",
       "      <td>2022</td>\n",
       "      <td>12</td>\n",
       "    </tr>\n",
       "  </tbody>\n",
       "</table>\n",
       "</div>"
      ],
      "text/plain": [
       "   numwfh_days_postCOVID_boss_s_u  wfh_days_postCOVID_s  \\\n",
       "0                             0.0                     2   \n",
       "1                            40.0                     2   \n",
       "2                            80.0                     6   \n",
       "3                            40.0                     3   \n",
       "4                            80.0                     3   \n",
       "\n",
       "   wfh_days_postCOVID_ss  wfh_days_postCOVID_boss  wfh_days_postCOVID_boss_ss  \\\n",
       "0                      1                      1.0                         1.0   \n",
       "1                      1                      4.0                         3.0   \n",
       "2                      5                      6.0                         5.0   \n",
       "3                      2                      4.0                         3.0   \n",
       "4                      2                      6.0                         5.0   \n",
       "\n",
       "   year  month  \n",
       "0  2020      9  \n",
       "1  2023     10  \n",
       "2  2022     12  \n",
       "3  2023      9  \n",
       "4  2022     12  "
      ]
     },
     "execution_count": 75,
     "metadata": {},
     "output_type": "execute_result"
    }
   ],
   "source": [
    "dfb = df.drop(columns=columns_to_drop4)\n",
    "display(dfb.shape)\n",
    "dfb.head()"
   ]
  },
  {
   "cell_type": "code",
   "execution_count": null,
   "id": "7495446b",
   "metadata": {},
   "outputs": [],
   "source": [
    "# numwfh_days_postCOVID_boss_s_u \n",
    "# ##### Employer planned share of paid working days WFH after COVID (%)\"\n",
    "\n",
    "# wfh_days_postCOVID_ss\n",
    "# ##### Desired number of paid WFH days after COVID - categorical, bundling together rarely and never\n",
    "\n",
    "# wfh_days_postCOVID_s\n",
    "## Desired number of paid WFH days after COVID - categorical\n",
    "\n",
    "# wfh_days_postCOVID_boss\n",
    "# ##### Employer's planned number of paid WFH days after COVID - categorical\n",
    "\n",
    "# wfh_days_postCOVID_boss_ss\n",
    "# ##### Employer's planned number of paid WFH days after COVID - categorical, bundling together rarely and never"
   ]
  },
  {
   "cell_type": "code",
   "execution_count": 67,
   "id": "4c71ac31",
   "metadata": {},
   "outputs": [],
   "source": [
    "# dfb.isna().sum()"
   ]
  },
  {
   "cell_type": "code",
   "execution_count": 76,
   "id": "af43f7d3",
   "metadata": {},
   "outputs": [
    {
     "data": {
      "text/plain": [
       "(205704, 7)"
      ]
     },
     "metadata": {},
     "output_type": "display_data"
    }
   ],
   "source": [
    "dfb.dropna(inplace=True)\n",
    "display(dfb.shape)\n",
    "# dfb.head()"
   ]
  },
  {
   "cell_type": "code",
   "execution_count": 77,
   "id": "10a8798e",
   "metadata": {},
   "outputs": [
    {
     "data": {
      "text/html": [
       "<div>\n",
       "<style scoped>\n",
       "    .dataframe tbody tr th:only-of-type {\n",
       "        vertical-align: middle;\n",
       "    }\n",
       "\n",
       "    .dataframe tbody tr th {\n",
       "        vertical-align: top;\n",
       "    }\n",
       "\n",
       "    .dataframe thead th {\n",
       "        text-align: right;\n",
       "    }\n",
       "</style>\n",
       "<table border=\"1\" class=\"dataframe\">\n",
       "  <thead>\n",
       "    <tr style=\"text-align: right;\">\n",
       "      <th></th>\n",
       "      <th>numwfh_days_postCOVID_boss_s_u</th>\n",
       "      <th>wfh_days_postCOVID_s</th>\n",
       "      <th>wfh_days_postCOVID_ss</th>\n",
       "      <th>wfh_days_postCOVID_boss</th>\n",
       "      <th>wfh_days_postCOVID_boss_ss</th>\n",
       "      <th>date</th>\n",
       "    </tr>\n",
       "  </thead>\n",
       "  <tbody>\n",
       "    <tr>\n",
       "      <th>0</th>\n",
       "      <td>0.0</td>\n",
       "      <td>2</td>\n",
       "      <td>1</td>\n",
       "      <td>1.0</td>\n",
       "      <td>1.0</td>\n",
       "      <td>2020/9</td>\n",
       "    </tr>\n",
       "    <tr>\n",
       "      <th>1</th>\n",
       "      <td>40.0</td>\n",
       "      <td>2</td>\n",
       "      <td>1</td>\n",
       "      <td>4.0</td>\n",
       "      <td>3.0</td>\n",
       "      <td>2023/10</td>\n",
       "    </tr>\n",
       "    <tr>\n",
       "      <th>2</th>\n",
       "      <td>80.0</td>\n",
       "      <td>6</td>\n",
       "      <td>5</td>\n",
       "      <td>6.0</td>\n",
       "      <td>5.0</td>\n",
       "      <td>2022/12</td>\n",
       "    </tr>\n",
       "    <tr>\n",
       "      <th>3</th>\n",
       "      <td>40.0</td>\n",
       "      <td>3</td>\n",
       "      <td>2</td>\n",
       "      <td>4.0</td>\n",
       "      <td>3.0</td>\n",
       "      <td>2023/9</td>\n",
       "    </tr>\n",
       "    <tr>\n",
       "      <th>4</th>\n",
       "      <td>80.0</td>\n",
       "      <td>3</td>\n",
       "      <td>2</td>\n",
       "      <td>6.0</td>\n",
       "      <td>5.0</td>\n",
       "      <td>2022/12</td>\n",
       "    </tr>\n",
       "  </tbody>\n",
       "</table>\n",
       "</div>"
      ],
      "text/plain": [
       "   numwfh_days_postCOVID_boss_s_u  wfh_days_postCOVID_s  \\\n",
       "0                             0.0                     2   \n",
       "1                            40.0                     2   \n",
       "2                            80.0                     6   \n",
       "3                            40.0                     3   \n",
       "4                            80.0                     3   \n",
       "\n",
       "   wfh_days_postCOVID_ss  wfh_days_postCOVID_boss  wfh_days_postCOVID_boss_ss  \\\n",
       "0                      1                      1.0                         1.0   \n",
       "1                      1                      4.0                         3.0   \n",
       "2                      5                      6.0                         5.0   \n",
       "3                      2                      4.0                         3.0   \n",
       "4                      2                      6.0                         5.0   \n",
       "\n",
       "      date  \n",
       "0   2020/9  \n",
       "1  2023/10  \n",
       "2  2022/12  \n",
       "3   2023/9  \n",
       "4  2022/12  "
      ]
     },
     "execution_count": 77,
     "metadata": {},
     "output_type": "execute_result"
    }
   ],
   "source": [
    "# Combine 'year' and 'month' columns into a new 'date' column\n",
    "dfb['date'] = dfb['year'].astype(str) + '/' + dfb['month'].astype(str)\n",
    "\n",
    "# Drop 'year' and 'month' columns\n",
    "dfb.drop(['year', 'month'], axis=1, inplace=True)\n",
    "dfb.head()"
   ]
  },
  {
   "cell_type": "code",
   "execution_count": 78,
   "id": "7d23b2af",
   "metadata": {},
   "outputs": [],
   "source": [
    "# dfb.to_excel('dfBoss.xlsx', index=False)"
   ]
  },
  {
   "cell_type": "markdown",
   "id": "6d1d44c2",
   "metadata": {},
   "source": [
    "## Columns to keep3 - Commute time saved"
   ]
  },
  {
   "cell_type": "code",
   "execution_count": null,
   "id": "f4c6e117",
   "metadata": {},
   "outputs": [],
   "source": [
    "df.commutetime_towork.value_counts(dropna=False) "
   ]
  },
  {
   "cell_type": "code",
   "execution_count": null,
   "id": "a50d8788",
   "metadata": {},
   "outputs": [],
   "source": [
    "columns_to_keep3 = ['extratime_sleep','extratime_outdoorexercise','extratime_indoorleisure','extratime_chores','extratime_childcare','extratime_1stjob','wfh_extraeff_comm_quant','commutetime_quant','wfh_extraeff_comm_qual','commutetime_fromwork','commutetime_towork','year','month']\n",
    "columns_to_drop3 = [col for col in df.columns if col not in columns_to_keep3]"
   ]
  },
  {
   "cell_type": "markdown",
   "id": "48a98566",
   "metadata": {},
   "source": [
    "label variable extratime_1stjob  \"Percent of commute time savings spent working on primary or current job\"\n",
    "label variable extratime_2ndjob \"Percent of commute time savings spent on a second or new secondary job\"\n",
    "label variable extratime_childcare \"Percent of commute time savings spent on childcare\"\n",
    "label variable extratime_chores \"Percent of commute time savings spent on home improvement, chores, or shopping\"\n",
    "label variable extratime_indoorleisure \"Percent of commute time savings spent on leisure indoors (e.g. reading, watching TV and movies)\"\n",
    "label variable extratime_outdoorexercise \"Percent of commute time savings spent on exercise or outdoor leisure\"\n",
    "label variable extratime_sleep \"Percent of commute time savings spent on sleep\""
   ]
  },
  {
   "cell_type": "code",
   "execution_count": null,
   "id": "f9620942",
   "metadata": {},
   "outputs": [],
   "source": [
    "dfc = df.drop(columns=columns_to_drop3)\n",
    "display(dfc.shape)\n",
    "dfc.head()"
   ]
  },
  {
   "cell_type": "code",
   "execution_count": null,
   "id": "2de2ed93",
   "metadata": {},
   "outputs": [],
   "source": [
    "# dfc.dropna(inplace=True)\n",
    "# display(dfc.shape)\n",
    "# dfc.head()"
   ]
  },
  {
   "cell_type": "code",
   "execution_count": null,
   "id": "9b977fef",
   "metadata": {},
   "outputs": [],
   "source": [
    "# Combine 'year' and 'month' columns into a new 'date' column\n",
    "dfc['date'] = dfc['year'].astype(str) + '/' + dfc['month'].astype(str)\n",
    "\n",
    "# Drop 'year' and 'month' columns\n",
    "dfc.drop(['year', 'month'], axis=1, inplace=True)\n",
    "dfc.head()"
   ]
  },
  {
   "cell_type": "code",
   "execution_count": null,
   "id": "82ce63c8",
   "metadata": {},
   "outputs": [],
   "source": [
    "# dfc.to_excel('dfcommute.xlsx', index=False)"
   ]
  },
  {
   "cell_type": "markdown",
   "id": "85adc03a",
   "metadata": {},
   "source": [
    "## Columns to keep2 - working premesis\n",
    "*******************************************************\n",
    "* For each day last week, did you work a full day (6 or more hours), and if so where (i.e. from home, on employer or client premises)?\n",
    "\n",
    "1 \"Did not work\" 2 \"Worked from home\" 3 \"Worked on employer or client premises\" 4 \"Other\"\n",
    "\n",
    "label variable workstatus_monday \"Monday of last week, did you work a full day (6+ hours), and if so where?\"\n",
    "label variable workstatus_tuesday \"Tuesday of last week, did you work a full day (6+ hours), and if so where?\"\n",
    "label variable workstatus_wednesday \"Wednesday of last week, did you work a full day (6+ hours), and if so where?\"\n",
    "label variable workstatus_thursday \"Thursday of last week, did you work a full day (6+ hours), and if so where?\"\n",
    "label variable workstatus_friday \"Friday of last week, did you work a full day (6+ hours), and if so where?\"\n",
    "label variable workstatus_saturday \"Saturday of last week, did you work a full day (6+ hours), and if so where?\"\n",
    "label variable workstatus_sunday \"Sunday of last week, did you work a full day (6+ hours), and if so where?\"\n"
   ]
  },
  {
   "cell_type": "code",
   "execution_count": null,
   "id": "4f126cd8",
   "metadata": {},
   "outputs": [],
   "source": [
    "columns_to_keep2 = ['year','month','work_industry','workstatus_monday','workstatus_tuesday','workstatus_wednesday','workstatus_thursday','workstatus_friday','workstatus_saturday','workstatus_sunday']\n",
    "columns_to_drop2 = [col for col in df.columns if col not in columns_to_keep2]"
   ]
  },
  {
   "cell_type": "code",
   "execution_count": null,
   "id": "32a1a04b",
   "metadata": {},
   "outputs": [],
   "source": [
    "dfwp = df.drop(columns=columns_to_drop2)\n",
    "display(dfwp.shape)\n",
    "dfwp.head()"
   ]
  },
  {
   "cell_type": "code",
   "execution_count": null,
   "id": "02a77472",
   "metadata": {},
   "outputs": [],
   "source": [
    "dfwp.year.value_counts()"
   ]
  },
  {
   "cell_type": "code",
   "execution_count": null,
   "id": "44c0caec",
   "metadata": {},
   "outputs": [],
   "source": [
    "dfwp.dropna(inplace=True)\n",
    "display(dfwp.shape)\n",
    "dfwp.head()"
   ]
  },
  {
   "cell_type": "code",
   "execution_count": null,
   "id": "b3862349",
   "metadata": {},
   "outputs": [],
   "source": [
    "dfwp.year.value_counts()"
   ]
  },
  {
   "cell_type": "code",
   "execution_count": null,
   "id": "da33c7c8",
   "metadata": {},
   "outputs": [],
   "source": [
    "# dfwp.to_excel('dfwp.xlsx', index=False)"
   ]
  },
  {
   "cell_type": "markdown",
   "id": "2c7cdc83",
   "metadata": {},
   "source": [
    "## Columns to keep dfp - Participants"
   ]
  },
  {
   "cell_type": "code",
   "execution_count": null,
   "id": "2abfa2c7",
   "metadata": {},
   "outputs": [],
   "source": [
    "columns_to_keep1 = ['year','month','agebin','gender_d','education_s','workstatus_current_new','work_industry','iincomebin']\n",
    "columns_to_drop1 = [col for col in df.columns if col not in columns_to_keep1]\n",
    "dfp = df.drop(columns=columns_to_drop1)\n",
    "dfp.head(5)"
   ]
  },
  {
   "cell_type": "code",
   "execution_count": null,
   "id": "35260b20",
   "metadata": {},
   "outputs": [],
   "source": [
    "dfp.shape"
   ]
  },
  {
   "cell_type": "markdown",
   "id": "a2355f10",
   "metadata": {},
   "source": [
    "* Age\n",
    "label define agebin_lbl 2 \"20 - 29\", add\n",
    "label define agebin_lbl 3 \"30 - 39\", add\n",
    "label define agebin_lbl 4 \"40 - 49\", add\n",
    "label define agebin_lbl 5 \"50 - 64\", add\n",
    "label define agebin_lbl 6 \"65+\", add\n",
    "label values agebin agebin_lbl\n",
    "********************************************************************************\n",
    "* Sex\n",
    "* Note: gender_d includes the \"Other/prefer not to say option\" while gender focuses on male/female (sex only)\n",
    "label define gender_lbl 1 \"Female\"\n",
    "label define gender_lbl 2 \"Male\", add\n",
    "label define gender_lbl 3 \"Other/prefer not to say\", add\n",
    "********************************************************************************\n",
    "* Education \n",
    "label define education_s_lbl 1 \"Less than high-school degree\"\n",
    "label define education_s_lbl 2 \"High-school degree\", add\n",
    "label define education_s_lbl 3 \"1 to 3-years of college\", add\n",
    "label define education_s_lbl 4 \"4-year college degree\", add\n",
    "label define education_s_lbl 5 \"Graduate degree\", add\n",
    "label values education_s education_s_lbl\n",
    "********************************************************************************\n",
    "* Work Status \n",
    "label define workstatus_current_new_lbl \n",
    "1 \"Working for pay\" \n",
    "2 \"Employed and paid, but not working\" \n",
    "3 \"Unemployed, searching\" \n",
    "4 \"Unemployed, awaiting recall\" \n",
    "5 \"Out of the labor force\"\n",
    "6 \"Other\"\n",
    "********************************************************************************\n",
    "* Industry of current job\n",
    "label define work_industry_lbl 1 \"Agriculture\", \n",
    "label define work_industry_lbl 2 \"Arts & Entertainment\", add \n",
    "label define work_industry_lbl 3 \"Finance & Insurance\", add \n",
    "label define work_industry_lbl 4 \"Construction\", add \n",
    "label define work_industry_lbl 5 \"Education\", add\n",
    "label define work_industry_lbl 6 \"Health Care & Social Assistance\", add\n",
    "label define work_industry_lbl 7 \"Hospitality & Food Services\", add\n",
    "label define work_industry_lbl 8 \"Information\", add\n",
    "label define work_industry_lbl 9 \"Manufacturing\", add\n",
    "label define work_industry_lbl 10 \"Mining\", add\n",
    "label define work_industry_lbl 11 \"Professional & Business Services\", add\n",
    "label define work_industry_lbl 12 \"Real Estate\", add\n",
    "label define work_industry_lbl 13 \"Retail Trade\", add\n",
    "label define work_industry_lbl 14 \"Transportation and Warehousing\", add\n",
    "label define work_industry_lbl 15 \"Utilities\", add\n",
    "label define work_industry_lbl 16 \"Wholesale Trade\", add\n",
    "label define work_industry_lbl 17 \"Government\", add\n",
    "label define work_industry_lbl 18 \"Other\", add\n",
    "label values work_industry work_industry_lbl\n",
    "********************************************************************************\n",
    "* Income categories (coarse and fine)\n",
    "label define iincomebin_lbl \n",
    "0 \"$10k to $20k\" \n",
    "1 \"$20k to $50k\" \n",
    "2 \"$50k to $100k\" \n",
    "3 \"$100k to $150k\" \n",
    "4 \"$150k+\""
   ]
  },
  {
   "cell_type": "markdown",
   "id": "0c7b16d4",
   "metadata": {},
   "source": [
    "### Dealing with NaN's in dfp"
   ]
  },
  {
   "cell_type": "code",
   "execution_count": null,
   "id": "cd5f6776",
   "metadata": {},
   "outputs": [],
   "source": [
    "# dfp.workstatus_current_new.value_counts(dropna=False) "
   ]
  },
  {
   "cell_type": "code",
   "execution_count": null,
   "id": "90ef3f40",
   "metadata": {},
   "outputs": [],
   "source": [
    "dfp['workstatus_current_new'] = dfp['workstatus_current_new'].fillna(6)\n",
    "dfp.workstatus_current_new.value_counts(dropna=False) "
   ]
  },
  {
   "cell_type": "code",
   "execution_count": null,
   "id": "2aa45d47",
   "metadata": {},
   "outputs": [],
   "source": [
    "dfp.work_industry.value_counts(dropna=False) "
   ]
  },
  {
   "cell_type": "code",
   "execution_count": null,
   "id": "63805bab",
   "metadata": {},
   "outputs": [],
   "source": [
    "# Get the count of each category excluding NaN\n",
    "category_counts = dfp['work_industry'].value_counts()\n",
    "\n",
    "# Calculate the number of NaN values to assign to each category\n",
    "na_count = dfp['work_industry'].isna().sum()\n",
    "per_category = na_count // len(category_counts)\n",
    "remaining_na = na_count % len(category_counts)\n",
    "\n",
    "# Assign NaN values randomly to existing categories\n",
    "nan_indices = dfp['work_industry'].isna()\n",
    "nan_indices = nan_indices[nan_indices].index\n",
    "\n",
    "for category, count in category_counts.items():\n",
    "    indices = np.random.choice(nan_indices, min(per_category, len(nan_indices)), replace=False)\n",
    "    dfp.loc[indices, 'work_industry'] = category\n",
    "    nan_indices = nan_indices.difference(indices)\n",
    "\n",
    "# Assign remaining NaN values if any\n",
    "if remaining_na > 0:\n",
    "    indices = np.random.choice(nan_indices, remaining_na, replace=False)\n",
    "    dfp.loc[indices, 'work_industry'] = np.random.choice(category_counts.index, remaining_na)\n",
    "\n",
    "# Check if there are any remaining NaN values\n",
    "if dfp['work_industry'].isna().any():\n",
    "    print(\"Some NaN values remain after spreading.\")\n",
    "else:\n",
    "    print(\"NaN values have been spread over all values in the column.\")"
   ]
  },
  {
   "cell_type": "code",
   "execution_count": null,
   "id": "f990eb9d",
   "metadata": {},
   "outputs": [],
   "source": [
    "dfp.work_industry.value_counts(dropna=False) "
   ]
  },
  {
   "cell_type": "code",
   "execution_count": null,
   "id": "9eef1882",
   "metadata": {},
   "outputs": [],
   "source": [
    "if dfp.isna().any().any():\n",
    "    print(\"There are still NaN values in the DataFrame.\")\n",
    "else:\n",
    "    print(\"There are no NaN values in the DataFrame.\")"
   ]
  },
  {
   "cell_type": "code",
   "execution_count": null,
   "id": "3cbf5350",
   "metadata": {},
   "outputs": [],
   "source": []
  },
  {
   "cell_type": "code",
   "execution_count": null,
   "id": "ecb915c3",
   "metadata": {},
   "outputs": [],
   "source": [
    "# dfp.to_csv('dfp.csv', index=False)"
   ]
  },
  {
   "cell_type": "markdown",
   "id": "e0108964",
   "metadata": {},
   "source": [
    "### Columns to keep wfhh-hours desired"
   ]
  },
  {
   "cell_type": "code",
   "execution_count": null,
   "id": "93afe217",
   "metadata": {},
   "outputs": [],
   "source": [
    "columns_to_keep = ['wfh_days_postCOVID_boss_ss','wfh_days_postCOVID_ss']\n",
    "columns_to_drop = [col for col in df.columns if col not in columns_to_keep]\n",
    "wfhh = df.drop(columns=columns_to_drop)\n",
    "wfhh.head()"
   ]
  },
  {
   "cell_type": "markdown",
   "id": "6ffc7bda",
   "metadata": {},
   "source": [
    "*******************************************************************************\n",
    "* Employer planned post-COVID working from home days, for both categorical versions (bundled and unbundled \"Rarely\" and \"Never\" categories)\n",
    "label define wfh_days_postCOVID_boss_ss_lbl 1 \"Rarely or never\"\n",
    "label define wfh_days_postCOVID_boss_ss_lbl 2 \"1 day per week\", add\n",
    "label define wfh_days_postCOVID_boss_ss_lbl 3 \"2 days per week\", add\n",
    "label define wfh_days_postCOVID_boss_ss_lbl 4 \"3 days per week\", add\n",
    "label define wfh_days_postCOVID_boss_ss_lbl 5 \"4 days per week\", add\n",
    "label define wfh_days_postCOVID_boss_ss_lbl 6 \"5 day per week\", add\n",
    "label define wfh_days_postCOVID_boss_ss_lbl 7 \"No clear plans from employer\", add\n",
    "label define wfh_days_postCOVID_boss_ss_lbl 8 \"No employer\", add\n",
    "*******************************************************************************\n",
    "* Desired post-COVID working from home days, for both categorical versions (bundled and unbundled \"Rarely\" and \"Never\" categories)\n",
    "label define wfh_days_postCOVID_ss_lbl 1 \"Rarely or never\"\n",
    "label define wfh_days_postCOVID_ss_lbl 2 \"1 day per week\", add\n",
    "label define wfh_days_postCOVID_ss_lbl 3 \"2 days per week\", add\n",
    "label define wfh_days_postCOVID_ss_lbl 4 \"3 days per week\", add\n",
    "label define wfh_days_postCOVID_ss_lbl 5 \"4 days per week\", add\n",
    "label define wfh_days_postCOVID_ss_lbl 6 \"5 days per week\", add"
   ]
  },
  {
   "cell_type": "code",
   "execution_count": null,
   "id": "60b3acac",
   "metadata": {},
   "outputs": [],
   "source": [
    "wfhh.shape"
   ]
  },
  {
   "cell_type": "code",
   "execution_count": null,
   "id": "29d2df84",
   "metadata": {},
   "outputs": [],
   "source": [
    "wfhh.wfh_days_postCOVID_boss_ss.value_counts(dropna=False)"
   ]
  },
  {
   "cell_type": "code",
   "execution_count": null,
   "id": "eda07e88",
   "metadata": {},
   "outputs": [],
   "source": [
    "wfhh.wfh_days_postCOVID_ss.value_counts(dropna=False)"
   ]
  },
  {
   "cell_type": "code",
   "execution_count": null,
   "id": "87c4e823",
   "metadata": {},
   "outputs": [],
   "source": [
    "# Get the count of each category excluding NaN\n",
    "category_counts = wfhh['wfh_days_postCOVID_boss_ss'].value_counts()\n",
    "\n",
    "# Calculate the number of NaN values to assign to each category\n",
    "na_count = wfhh['wfh_days_postCOVID_boss_ss'].isna().sum()\n",
    "per_category = na_count // len(category_counts)\n",
    "remaining_na = na_count % len(category_counts)\n",
    "\n",
    "# Assign NaN values randomly to existing categories\n",
    "nan_indices = wfhh['wfh_days_postCOVID_boss_ss'].isna()\n",
    "nan_indices = nan_indices[nan_indices].index\n",
    "\n",
    "for category, count in category_counts.items():\n",
    "    indices = np.random.choice(nan_indices, min(per_category, len(nan_indices)), replace=False)\n",
    "    wfhh.loc[indices, 'wfh_days_postCOVID_boss_ss'] = category\n",
    "    nan_indices = nan_indices.difference(indices)\n",
    "\n",
    "# Assign remaining NaN values if any\n",
    "if remaining_na > 0:\n",
    "    indices = np.random.choice(nan_indices, remaining_na, replace=False)\n",
    "    wfhh.loc[indices, 'wfh_days_postCOVID_boss_ss'] = np.random.choice(category_counts.index, remaining_na)\n",
    "\n",
    "# Check if there are any remaining NaN values\n",
    "if wfhh['wfh_days_postCOVID_boss_ss'].isna().any():\n",
    "    print(\"Some NaN values remain after spreading.\")\n",
    "else:\n",
    "    print(\"NaN values have been spread over all values in the column.\")"
   ]
  },
  {
   "cell_type": "code",
   "execution_count": null,
   "id": "006d9f01",
   "metadata": {},
   "outputs": [],
   "source": [
    "wfhh.wfh_days_postCOVID_boss_ss.value_counts(dropna=False)"
   ]
  },
  {
   "cell_type": "markdown",
   "id": "18e8efab",
   "metadata": {},
   "source": [
    "### Columns to keep wfhc-effeciancy and equipment"
   ]
  },
  {
   "cell_type": "code",
   "execution_count": null,
   "id": "8e02eb06",
   "metadata": {},
   "outputs": [],
   "source": [
    "pd.set_option('display.max_columns',None)"
   ]
  },
  {
   "cell_type": "code",
   "execution_count": null,
   "id": "35f17d4f",
   "metadata": {},
   "outputs": [],
   "source": [
    "columns_to_keep = ['wfh_top3benefits_commute','wfh_top3benefits_groom','wfh_top3benefits_flex','wfh_top3benefits_meetings','wfh_top3benefits_quiet','wfh_top3benefits_family','wfh_top3benefits_other','wbp_top3benefits_collab','wbp_top3benefits_social','wbp_top3benefits_facetime','wbp_top3benefits_equip','wbp_top3benefits_quiet','wbp_top3benefits_bound','wbp_top3benefits_other']\n",
    "columns_to_drop = [col for col in df.columns if col not in columns_to_keep]\n",
    "wfhc = df.drop(columns=columns_to_drop)\n",
    "wfhc.head()"
   ]
  },
  {
   "cell_type": "code",
   "execution_count": null,
   "id": "5f8836cc",
   "metadata": {},
   "outputs": [],
   "source": [
    "wfhc.shape"
   ]
  },
  {
   "cell_type": "code",
   "execution_count": null,
   "id": "b94b568a",
   "metadata": {},
   "outputs": [],
   "source": [
    "wfhc.isna().sum()"
   ]
  },
  {
   "cell_type": "markdown",
   "id": "51e8ae33",
   "metadata": {},
   "source": [
    "label variable wfh_top3benefits_commute \"Top 3 benefits of WFH include: No commute\"\n",
    "label variable wfh_top3benefits_groom \"Top 3 benefits of WFH include: Less time getting ready\"\n",
    "label variable wfh_top3benefits_flex \"Top 3 benefits of WFH include: Flexibility on when I work\"\n",
    "label variable wfh_top3benefits_meetings \"Top 3 benefits of WFH include: Fewer meetings\"\n",
    "label variable wfh_top3benefits_quiet  \"Top 3 benefits of WFH include: Individual quiet time\"\n",
    "label variable wfh_top3benefits_family  \"Top 3 benefits of WFH include: More time with family/friends\"\n",
    "label variable wfh_top3benefits_other  \"Top 3 benefits of WFH include: Other\"\n",
    "\n",
    "label variable wbp_top3benefits_collab \"Top 3 benefits of WBP include: Face-toface collaboration\" \n",
    "label variable wbp_top3benefits_social \"Top 3 benefits of WBP include: Socializing\" \n",
    "label variable wbp_top3benefits_facetime \"Top 3 benefits of WBP include: Face time with manager\"\n",
    "label variable wbp_top3benefits_equip \"Top 3 benefits of WBP include: Better equipment\"\n",
    "label variable wbp_top3benefits_quiet \"Top 3 benefits of WBP include: Quiet\"\n",
    "label variable wbp_top3benefits_bound \"Top 3 benefits of WBP include: Work/personal time boundaries\"\n",
    "label variable wbp_top3benefits_other  \"Top 3 benefits of WBP include: Other\""
   ]
  },
  {
   "cell_type": "code",
   "execution_count": null,
   "id": "a3421626",
   "metadata": {},
   "outputs": [],
   "source": [
    "wfhc.shape"
   ]
  },
  {
   "cell_type": "code",
   "execution_count": null,
   "id": "26f404b6",
   "metadata": {},
   "outputs": [],
   "source": [
    "for column in wfhc.columns:\n",
    "    print(\"Column:\", column)\n",
    "    print(wfhc[column].value_counts(dropna=False))\n",
    "    print()"
   ]
  },
  {
   "cell_type": "markdown",
   "id": "75f3a0ef",
   "metadata": {},
   "source": [
    "### Dealing with NaN's in wfhc"
   ]
  },
  {
   "cell_type": "code",
   "execution_count": null,
   "id": "7f743a18",
   "metadata": {},
   "outputs": [],
   "source": [
    "wfhc=wfhc.dropna()\n",
    "wfhc.shape"
   ]
  },
  {
   "cell_type": "code",
   "execution_count": null,
   "id": "0c36bac7",
   "metadata": {},
   "outputs": [],
   "source": [
    "# wfhc.to_csv('wfhc.csv', index=False)"
   ]
  },
  {
   "cell_type": "markdown",
   "id": "a47e01cf",
   "metadata": {},
   "source": [
    "## whfc + dfp = rem"
   ]
  },
  {
   "cell_type": "code",
   "execution_count": null,
   "id": "78f01b2b",
   "metadata": {},
   "outputs": [],
   "source": [
    "columns_to_keep = ['wfh_days_postCOVID_boss_ss','wfh_days_postCOVID_ss','year','month','agebin','gender_d','education_s','workstatus_current_new','work_industry','iincomebin','wfh_top3benefits_commute','wfh_top3benefits_groom','wfh_top3benefits_flex','wfh_top3benefits_meetings','wfh_top3benefits_quiet','wfh_top3benefits_family','wfh_top3benefits_other','wbp_top3benefits_collab','wbp_top3benefits_social','wbp_top3benefits_facetime','wbp_top3benefits_equip','wbp_top3benefits_quiet','wbp_top3benefits_bound','wbp_top3benefits_other']\n",
    "columns_to_drop = [col for col in df.columns if col not in columns_to_keep]\n",
    "rem = df.drop(columns=columns_to_drop)\n",
    "rem.head()"
   ]
  },
  {
   "cell_type": "code",
   "execution_count": null,
   "id": "e060c30b",
   "metadata": {},
   "outputs": [],
   "source": [
    "rem.shape"
   ]
  },
  {
   "cell_type": "markdown",
   "id": "14dabf05",
   "metadata": {},
   "source": [
    "### cleaning NaNs in rem"
   ]
  },
  {
   "cell_type": "code",
   "execution_count": null,
   "id": "28a88d7f",
   "metadata": {},
   "outputs": [],
   "source": [
    "dfp['workstatus_current_new'] = dfp['workstatus_current_new'].fillna(6)\n",
    "dfp.workstatus_current_new.value_counts(dropna=False) "
   ]
  },
  {
   "cell_type": "code",
   "execution_count": null,
   "id": "5735c882",
   "metadata": {},
   "outputs": [],
   "source": [
    "# Get the count of each category excluding NaN\n",
    "category_counts = dfp['work_industry'].value_counts()\n",
    "\n",
    "# Calculate the number of NaN values to assign to each category\n",
    "na_count = dfp['work_industry'].isna().sum()\n",
    "per_category = na_count // len(category_counts)\n",
    "remaining_na = na_count % len(category_counts)\n",
    "\n",
    "# Assign NaN values randomly to existing categories\n",
    "nan_indices = dfp['work_industry'].isna()\n",
    "nan_indices = nan_indices[nan_indices].index\n",
    "\n",
    "for category, count in category_counts.items():\n",
    "    indices = np.random.choice(nan_indices, min(per_category, len(nan_indices)), replace=False)\n",
    "    dfp.loc[indices, 'work_industry'] = category\n",
    "    nan_indices = nan_indices.difference(indices)\n",
    "\n",
    "# Assign remaining NaN values if any\n",
    "if remaining_na > 0:\n",
    "    indices = np.random.choice(nan_indices, remaining_na, replace=False)\n",
    "    dfp.loc[indices, 'work_industry'] = np.random.choice(category_counts.index, remaining_na)\n",
    "\n",
    "# Check if there are any remaining NaN values\n",
    "if dfp['work_industry'].isna().any():\n",
    "    print(\"Some NaN values remain after spreading.\")\n",
    "else:\n",
    "    print(\"NaN values have been spread over all values in the column.\")"
   ]
  },
  {
   "cell_type": "code",
   "execution_count": null,
   "id": "b1305183",
   "metadata": {},
   "outputs": [],
   "source": [
    "rem=rem.dropna()\n",
    "rem.reset_index(drop=True, inplace=True)\n",
    "rem.replace(100.0, 1, inplace=True)"
   ]
  },
  {
   "cell_type": "code",
   "execution_count": null,
   "id": "9911c2f9",
   "metadata": {},
   "outputs": [],
   "source": [
    "rem.shape"
   ]
  },
  {
   "cell_type": "code",
   "execution_count": null,
   "id": "ae121e8e",
   "metadata": {},
   "outputs": [],
   "source": [
    "rem.head()"
   ]
  },
  {
   "cell_type": "code",
   "execution_count": null,
   "id": "ffead3bd",
   "metadata": {},
   "outputs": [],
   "source": [
    "# rem.to_csv('rem.csv', index=False)"
   ]
  }
 ],
 "metadata": {
  "kernelspec": {
   "display_name": "Python 3 (ipykernel)",
   "language": "python",
   "name": "python3"
  },
  "language_info": {
   "codemirror_mode": {
    "name": "ipython",
    "version": 3
   },
   "file_extension": ".py",
   "mimetype": "text/x-python",
   "name": "python",
   "nbconvert_exporter": "python",
   "pygments_lexer": "ipython3",
   "version": "3.11.5"
  }
 },
 "nbformat": 4,
 "nbformat_minor": 5
}
