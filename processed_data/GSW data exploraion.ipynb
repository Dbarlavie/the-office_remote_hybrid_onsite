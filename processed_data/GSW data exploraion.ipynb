{
 "cells": [
  {
   "cell_type": "code",
   "execution_count": 1,
   "id": "6912a7fc",
   "metadata": {},
   "outputs": [],
   "source": [
    "import pandas as pd\n",
    "import numpy as np\n",
    "pd.set_option('display.max_columns',None)"
   ]
  },
  {
   "cell_type": "code",
   "execution_count": 2,
   "id": "b5dbd3d5",
   "metadata": {},
   "outputs": [
    {
     "data": {
      "text/plain": [
       "(36078, 34)"
      ]
     },
     "execution_count": 2,
     "metadata": {},
     "output_type": "execute_result"
    }
   ],
   "source": [
    "df= pd.read_excel('G-SWA.xlsx')\n",
    "df.shape"
   ]
  },
  {
   "cell_type": "code",
   "execution_count": 3,
   "id": "ba3f4fa5",
   "metadata": {
    "scrolled": true
   },
   "outputs": [
    {
     "data": {
      "text/html": [
       "<div>\n",
       "<style scoped>\n",
       "    .dataframe tbody tr th:only-of-type {\n",
       "        vertical-align: middle;\n",
       "    }\n",
       "\n",
       "    .dataframe tbody tr th {\n",
       "        vertical-align: top;\n",
       "    }\n",
       "\n",
       "    .dataframe thead th {\n",
       "        text-align: right;\n",
       "    }\n",
       "</style>\n",
       "<table border=\"1\" class=\"dataframe\">\n",
       "  <thead>\n",
       "    <tr style=\"text-align: right;\">\n",
       "      <th></th>\n",
       "      <th>idnum</th>\n",
       "      <th>original_country</th>\n",
       "      <th>wave</th>\n",
       "      <th>country</th>\n",
       "      <th>originalcountry</th>\n",
       "      <th>regionname</th>\n",
       "      <th>gender</th>\n",
       "      <th>agegroups</th>\n",
       "      <th>education</th>\n",
       "      <th>industry_job</th>\n",
       "      <th>age</th>\n",
       "      <th>tertiary</th>\n",
       "      <th>graduate</th>\n",
       "      <th>married</th>\n",
       "      <th>male</th>\n",
       "      <th>with_kids</th>\n",
       "      <th>male_with_kids</th>\n",
       "      <th>n_work_home</th>\n",
       "      <th>daysemployer_work_home</th>\n",
       "      <th>daysemployee_work_home</th>\n",
       "      <th>value_WFH_rawpercent25</th>\n",
       "      <th>commuting_time</th>\n",
       "      <th>WFH_expectations1</th>\n",
       "      <th>WFHperceptions</th>\n",
       "      <th>return_office</th>\n",
       "      <th>ever_WFH</th>\n",
       "      <th>commute_time_hs</th>\n",
       "      <th>deaths_pc</th>\n",
       "      <th>LSI</th>\n",
       "      <th>reg_deaths_pc</th>\n",
       "      <th>subn_LSI</th>\n",
       "      <th>oxf_LSI</th>\n",
       "      <th>gdppc2019</th>\n",
       "      <th>mask</th>\n",
       "    </tr>\n",
       "  </thead>\n",
       "  <tbody>\n",
       "    <tr>\n",
       "      <th>0</th>\n",
       "      <td>1</td>\n",
       "      <td>Australia</td>\n",
       "      <td>1</td>\n",
       "      <td>Australia 1</td>\n",
       "      <td>27</td>\n",
       "      <td>Victoria</td>\n",
       "      <td>Male</td>\n",
       "      <td>50-59</td>\n",
       "      <td>Secondary</td>\n",
       "      <td>Professional &amp; Business Services</td>\n",
       "      <td>56</td>\n",
       "      <td>0</td>\n",
       "      <td>0</td>\n",
       "      <td>1.0</td>\n",
       "      <td>1</td>\n",
       "      <td>0.0</td>\n",
       "      <td>0.0</td>\n",
       "      <td>0.0</td>\n",
       "      <td>0.0</td>\n",
       "      <td>0</td>\n",
       "      <td>0.0</td>\n",
       "      <td>12</td>\n",
       "      <td>-25.0</td>\n",
       "      <td>-75</td>\n",
       "      <td>NaN</td>\n",
       "      <td>100</td>\n",
       "      <td>0.200000</td>\n",
       "      <td>0.000036</td>\n",
       "      <td>11.689555</td>\n",
       "      <td>0.000123</td>\n",
       "      <td>9.047081</td>\n",
       "      <td>1049.078321</td>\n",
       "      <td>58781.046657</td>\n",
       "      <td>7.840399</td>\n",
       "    </tr>\n",
       "    <tr>\n",
       "      <th>1</th>\n",
       "      <td>2</td>\n",
       "      <td>Australia</td>\n",
       "      <td>1</td>\n",
       "      <td>Australia 1</td>\n",
       "      <td>27</td>\n",
       "      <td>Queensland</td>\n",
       "      <td>Male</td>\n",
       "      <td>40-49</td>\n",
       "      <td>Tertiary</td>\n",
       "      <td>Professional &amp; Business Services</td>\n",
       "      <td>48</td>\n",
       "      <td>1</td>\n",
       "      <td>0</td>\n",
       "      <td>1.0</td>\n",
       "      <td>1</td>\n",
       "      <td>0.0</td>\n",
       "      <td>0.0</td>\n",
       "      <td>0.0</td>\n",
       "      <td>0.0</td>\n",
       "      <td>1</td>\n",
       "      <td>0.0</td>\n",
       "      <td>90</td>\n",
       "      <td>0.0</td>\n",
       "      <td>0</td>\n",
       "      <td>NaN</td>\n",
       "      <td>100</td>\n",
       "      <td>1.500000</td>\n",
       "      <td>0.000036</td>\n",
       "      <td>11.689555</td>\n",
       "      <td>0.000001</td>\n",
       "      <td>7.829032</td>\n",
       "      <td>1049.078321</td>\n",
       "      <td>58781.046657</td>\n",
       "      <td>7.840399</td>\n",
       "    </tr>\n",
       "    <tr>\n",
       "      <th>2</th>\n",
       "      <td>3</td>\n",
       "      <td>Australia</td>\n",
       "      <td>1</td>\n",
       "      <td>Australia 1</td>\n",
       "      <td>27</td>\n",
       "      <td>Victoria</td>\n",
       "      <td>Male</td>\n",
       "      <td>30-39</td>\n",
       "      <td>Graduate</td>\n",
       "      <td>Professional &amp; Business Services</td>\n",
       "      <td>38</td>\n",
       "      <td>0</td>\n",
       "      <td>1</td>\n",
       "      <td>0.0</td>\n",
       "      <td>1</td>\n",
       "      <td>0.0</td>\n",
       "      <td>0.0</td>\n",
       "      <td>5.0</td>\n",
       "      <td>0.0</td>\n",
       "      <td>0</td>\n",
       "      <td>0.0</td>\n",
       "      <td>120</td>\n",
       "      <td>0.0</td>\n",
       "      <td>0</td>\n",
       "      <td>NaN</td>\n",
       "      <td>100</td>\n",
       "      <td>2.000000</td>\n",
       "      <td>0.000036</td>\n",
       "      <td>11.689555</td>\n",
       "      <td>0.000123</td>\n",
       "      <td>9.047081</td>\n",
       "      <td>1049.078321</td>\n",
       "      <td>58781.046657</td>\n",
       "      <td>7.840399</td>\n",
       "    </tr>\n",
       "    <tr>\n",
       "      <th>3</th>\n",
       "      <td>4</td>\n",
       "      <td>Australia</td>\n",
       "      <td>1</td>\n",
       "      <td>Australia 1</td>\n",
       "      <td>27</td>\n",
       "      <td>Victoria</td>\n",
       "      <td>Male</td>\n",
       "      <td>40-49</td>\n",
       "      <td>Graduate</td>\n",
       "      <td>Health Care &amp; Social Assistance</td>\n",
       "      <td>48</td>\n",
       "      <td>0</td>\n",
       "      <td>1</td>\n",
       "      <td>0.0</td>\n",
       "      <td>1</td>\n",
       "      <td>0.0</td>\n",
       "      <td>0.0</td>\n",
       "      <td>0.0</td>\n",
       "      <td>0.0</td>\n",
       "      <td>0</td>\n",
       "      <td>-2.5</td>\n",
       "      <td>60</td>\n",
       "      <td>NaN</td>\n",
       "      <td>95</td>\n",
       "      <td>NaN</td>\n",
       "      <td>0</td>\n",
       "      <td>1.000000</td>\n",
       "      <td>0.000036</td>\n",
       "      <td>11.689555</td>\n",
       "      <td>0.000123</td>\n",
       "      <td>9.047081</td>\n",
       "      <td>1049.078321</td>\n",
       "      <td>58781.046657</td>\n",
       "      <td>7.840399</td>\n",
       "    </tr>\n",
       "    <tr>\n",
       "      <th>4</th>\n",
       "      <td>5</td>\n",
       "      <td>Australia</td>\n",
       "      <td>1</td>\n",
       "      <td>Australia 1</td>\n",
       "      <td>27</td>\n",
       "      <td>Victoria</td>\n",
       "      <td>Male</td>\n",
       "      <td>20-29</td>\n",
       "      <td>Secondary</td>\n",
       "      <td>Other</td>\n",
       "      <td>29</td>\n",
       "      <td>0</td>\n",
       "      <td>0</td>\n",
       "      <td>1.0</td>\n",
       "      <td>1</td>\n",
       "      <td>0.0</td>\n",
       "      <td>0.0</td>\n",
       "      <td>NaN</td>\n",
       "      <td>0.0</td>\n",
       "      <td>0</td>\n",
       "      <td>0.0</td>\n",
       "      <td>2</td>\n",
       "      <td>NaN</td>\n",
       "      <td>0</td>\n",
       "      <td>NaN</td>\n",
       "      <td>0</td>\n",
       "      <td>0.033333</td>\n",
       "      <td>0.000036</td>\n",
       "      <td>11.689555</td>\n",
       "      <td>0.000123</td>\n",
       "      <td>9.047081</td>\n",
       "      <td>1049.078321</td>\n",
       "      <td>58781.046657</td>\n",
       "      <td>7.840399</td>\n",
       "    </tr>\n",
       "  </tbody>\n",
       "</table>\n",
       "</div>"
      ],
      "text/plain": [
       "   idnum original_country  wave      country  originalcountry  regionname  \\\n",
       "0      1        Australia     1  Australia 1               27    Victoria   \n",
       "1      2        Australia     1  Australia 1               27  Queensland   \n",
       "2      3        Australia     1  Australia 1               27    Victoria   \n",
       "3      4        Australia     1  Australia 1               27    Victoria   \n",
       "4      5        Australia     1  Australia 1               27    Victoria   \n",
       "\n",
       "  gender agegroups  education                      industry_job  age  \\\n",
       "0   Male     50-59  Secondary  Professional & Business Services   56   \n",
       "1   Male     40-49   Tertiary  Professional & Business Services   48   \n",
       "2   Male     30-39   Graduate  Professional & Business Services   38   \n",
       "3   Male     40-49   Graduate   Health Care & Social Assistance   48   \n",
       "4   Male     20-29  Secondary                             Other   29   \n",
       "\n",
       "   tertiary  graduate  married  male  with_kids  male_with_kids  n_work_home  \\\n",
       "0         0         0      1.0     1        0.0             0.0          0.0   \n",
       "1         1         0      1.0     1        0.0             0.0          0.0   \n",
       "2         0         1      0.0     1        0.0             0.0          5.0   \n",
       "3         0         1      0.0     1        0.0             0.0          0.0   \n",
       "4         0         0      1.0     1        0.0             0.0          NaN   \n",
       "\n",
       "   daysemployer_work_home  daysemployee_work_home  value_WFH_rawpercent25  \\\n",
       "0                     0.0                       0                     0.0   \n",
       "1                     0.0                       1                     0.0   \n",
       "2                     0.0                       0                     0.0   \n",
       "3                     0.0                       0                    -2.5   \n",
       "4                     0.0                       0                     0.0   \n",
       "\n",
       "   commuting_time  WFH_expectations1  WFHperceptions return_office  ever_WFH  \\\n",
       "0              12              -25.0             -75           NaN       100   \n",
       "1              90                0.0               0           NaN       100   \n",
       "2             120                0.0               0           NaN       100   \n",
       "3              60                NaN              95           NaN         0   \n",
       "4               2                NaN               0           NaN         0   \n",
       "\n",
       "   commute_time_hs  deaths_pc        LSI  reg_deaths_pc  subn_LSI  \\\n",
       "0         0.200000   0.000036  11.689555       0.000123  9.047081   \n",
       "1         1.500000   0.000036  11.689555       0.000001  7.829032   \n",
       "2         2.000000   0.000036  11.689555       0.000123  9.047081   \n",
       "3         1.000000   0.000036  11.689555       0.000123  9.047081   \n",
       "4         0.033333   0.000036  11.689555       0.000123  9.047081   \n",
       "\n",
       "       oxf_LSI     gdppc2019      mask  \n",
       "0  1049.078321  58781.046657  7.840399  \n",
       "1  1049.078321  58781.046657  7.840399  \n",
       "2  1049.078321  58781.046657  7.840399  \n",
       "3  1049.078321  58781.046657  7.840399  \n",
       "4  1049.078321  58781.046657  7.840399  "
      ]
     },
     "execution_count": 3,
     "metadata": {},
     "output_type": "execute_result"
    }
   ],
   "source": [
    "df.head()"
   ]
  },
  {
   "cell_type": "code",
   "execution_count": null,
   "id": "62a87518",
   "metadata": {},
   "outputs": [],
   "source": []
  },
  {
   "cell_type": "code",
   "execution_count": null,
   "id": "a78a322d",
   "metadata": {},
   "outputs": [],
   "source": []
  },
  {
   "cell_type": "code",
   "execution_count": 6,
   "id": "d62b0c87",
   "metadata": {},
   "outputs": [
    {
     "data": {
      "text/plain": [
       "idnum  original_country  wave  country      originalcountry  regionname       gender  agegroups  education  industry_job                      age  tertiary  graduate  married  male  with_kids  male_with_kids  n_work_home  daysemployer_work_home  daysemployee_work_home  value_WFH_rawpercent25  commuting_time  WFH_expectations1  WFHperceptions  return_office                    ever_WFH  commute_time_hs  deaths_pc  LSI        reg_deaths_pc  subn_LSI   oxf_LSI      gdppc2019     mask     \n",
       "1      Brazil            2     Brazil 2     1                Espirito Santo   Male    50-59      Secondary  Construction                      50   0         0         1.0      1     1.0        1.0             0.0          0.0                     5                        30.0                   0                25.0               0              Comply and return to worksite    100       0.000000         0.002933   22.524194  3.361577e-03   19.036156  1474.803435  8638.282907   21.666667    1\n",
       "651    Brazil            2     Brazil 2     1                Sao Paulo        Male    40-49      Tertiary   Health Care & Social Assistance   40   1         0         0.0      1     0.0        0.0             3.0          5.0                     5                        7.5                    40               25.0               95              Look for a job to WFH 1-2 days  100       0.666667         0.002933   22.524194  3.437658e-03   17.430530  1474.803435  8638.282907   21.666667    1\n",
       "645    India             2     India 2      19               Delhi            Female  50-59      Graduate   Manufacturing                     50   0         1         1.0      0     1.0        0.0             1.0          1.0                     4                        12.5                   190              15.0               70             Comply and return to worksite    100       3.166667         0.000356   22.483871  1.540689e-03   17.158065  1685.532853  1972.757821   20.572043    1\n",
       "       USA               2     USA 2        3                Maryland         Male    20-29      Secondary  Other                             27   0         0         0.0      1     0.0        0.0             0.0          0.0                     0                       -12.5                   20              -25.0              -95             Comply and return to worksite    100       0.333333         0.002674   21.491935  1.984387e-03   8.757258   1436.295942  60836.771454  21.188172    1\n",
       "646    Brazil            2     Brazil 2     1                Sao Paulo        Male    40-49      Graduate   Professional & Business Services  42   0         1         1.0      1     1.0        1.0             5.0          3.0                     3                        7.5                    40               25.0              -25             Comply and return to worksite    100       0.666667         0.002933   22.524194  3.437658e-03   17.430530  1474.803435  8638.282907   21.666667    1\n",
       "                                                                                                                                                                                                                                                                                                                                                                                                                                                                                                            ..\n",
       "330    China             2     China 2      18               Guangxi          Female  30-39      Tertiary   Arts & Entertainment              33   1         0         1.0      0     1.0        0.0             5.0          0.0                     5                        0.0                    60               5.0                25             Comply and return to worksite    100       1.000000         0.000003   21.768548  3.989881e-08   4.238441   1651.032532  10155.417556  6.805914     1\n",
       "       India             2     India 2      19               Andhra Pradesh   Female  30-39      Secondary  Retail Trade                      37   0         0         1.0      0     1.0        0.0             0.0          2.0                     2                        7.5                    45               25.0               70             Comply and return to worksite    100       0.750000         0.000356   22.483871  2.947933e-04   18.967204  1685.532853  1972.757821   20.572043    1\n",
       "331    Australia         2     Australia 2  27               South Australia  Female  20-29      Tertiary   Information                       24   1         0         0.0      0     0.0        0.0             2.0          1.0                     2                        0.0                    50               5.0                70             Comply and return to worksite    100       0.833333         0.000149   16.855146  1.074036e-05   7.762366   1441.499009  58781.046657  13.840399    1\n",
       "       China             2     China 2      18               Zhejiang         Male    30-39      Tertiary   Finance or Insurance              38   1         0         1.0      1     1.0        1.0             0.0          0.0                     1                        0.0                    100              5.0               -25              Look for a job to WFH 1-2 days  100       1.666667         0.000003   21.768548  1.411707e-08   7.332527   1651.032532  10155.417556  6.805914     1\n",
       "1244   USA               2     USA 2        3                South Carolina   Female  50-59      Tertiary   Government                        59   1         0         0.0      0     0.0        0.0             5.0          3.0                     4                        7.5                    140              0.0                95              Look for a job to WFH 1-2 days  100       2.333333         0.002674   21.491935  2.890147e-03   4.701613   1436.295942  60836.771454  21.188172    1\n",
       "Name: count, Length: 2344, dtype: int64"
      ]
     },
     "execution_count": 6,
     "metadata": {},
     "output_type": "execute_result"
    }
   ],
   "source": [
    "df.value_counts()"
   ]
  },
  {
   "cell_type": "code",
   "execution_count": 7,
   "id": "fb0374ef",
   "metadata": {},
   "outputs": [
    {
     "data": {
      "text/plain": [
       "agegroups\n",
       "30-39    11228\n",
       "40-49     9738\n",
       "50-59     8339\n",
       "20-29     6773\n",
       "Name: count, dtype: int64"
      ]
     },
     "execution_count": 7,
     "metadata": {},
     "output_type": "execute_result"
    }
   ],
   "source": [
    "df.agegroups.value_counts()"
   ]
  },
  {
   "cell_type": "code",
   "execution_count": 8,
   "id": "4f9ff440",
   "metadata": {},
   "outputs": [
    {
     "data": {
      "text/plain": [
       "education\n",
       "Tertiary     12228\n",
       "Secondary    12024\n",
       "Graduate     11826\n",
       "Name: count, dtype: int64"
      ]
     },
     "execution_count": 8,
     "metadata": {},
     "output_type": "execute_result"
    }
   ],
   "source": [
    "df.education.value_counts()"
   ]
  },
  {
   "cell_type": "code",
   "execution_count": 9,
   "id": "2cedb0f2",
   "metadata": {
    "scrolled": true
   },
   "outputs": [
    {
     "data": {
      "text/plain": [
       "original_country\n",
       "Germany        2526\n",
       "Sweden         2352\n",
       "Netherlands    2237\n",
       "USA            2079\n",
       "China          1896\n",
       "Turkey         1767\n",
       "Ukraine        1725\n",
       "Poland         1669\n",
       "Hungary        1621\n",
       "Greece         1518\n",
       "UK             1501\n",
       "Australia      1455\n",
       "France         1348\n",
       "Korea          1087\n",
       "Taiwan         1055\n",
       "Malaysia       1012\n",
       "Singapore      1002\n",
       "India           970\n",
       "Russia          944\n",
       "Italy           930\n",
       "Japan           924\n",
       "Serbia          913\n",
       "Canada          895\n",
       "Spain           757\n",
       "Brazil          734\n",
       "Austria         657\n",
       "Egypt           504\n",
       "Name: count, dtype: int64"
      ]
     },
     "execution_count": 9,
     "metadata": {},
     "output_type": "execute_result"
    }
   ],
   "source": [
    "df.original_country.value_counts()"
   ]
  },
  {
   "cell_type": "code",
   "execution_count": 10,
   "id": "41af4363",
   "metadata": {},
   "outputs": [
    {
     "data": {
      "text/plain": [
       "originalcountry\n",
       "6     2526\n",
       "14    2352\n",
       "10    2237\n",
       "3     2079\n",
       "18    1896\n",
       "15    1767\n",
       "17    1725\n",
       "11    1669\n",
       "8     1621\n",
       "7     1518\n",
       "16    1501\n",
       "27    1455\n",
       "5     1348\n",
       "21    1087\n",
       "25    1055\n",
       "22    1012\n",
       "24    1002\n",
       "19     970\n",
       "23     944\n",
       "9      930\n",
       "20     924\n",
       "12     913\n",
       "2      895\n",
       "13     757\n",
       "1      734\n",
       "4      657\n",
       "26     504\n",
       "Name: count, dtype: int64"
      ]
     },
     "execution_count": 10,
     "metadata": {},
     "output_type": "execute_result"
    }
   ],
   "source": [
    "df.originalcountry.value_counts()\n",
    "## original_country encoded"
   ]
  },
  {
   "cell_type": "code",
   "execution_count": 11,
   "id": "4a1cc389",
   "metadata": {},
   "outputs": [],
   "source": [
    "# df.country.value_counts()\n",
    "## participants per country per wave - not relevant"
   ]
  },
  {
   "cell_type": "code",
   "execution_count": 12,
   "id": "0a297e3e",
   "metadata": {},
   "outputs": [
    {
     "data": {
      "text/plain": [
       "industry_job\n",
       "Manufacturing                       4657\n",
       "Other                               4206\n",
       "Health Care & Social Assistance     3326\n",
       "Education                           3070\n",
       "Professional & Business Services    2780\n",
       "Retail Trade                        2658\n",
       "Government                          2245\n",
       "Construction                        2140\n",
       "Information                         2096\n",
       "Finance or Insurance                2081\n",
       "Transportation or Warehousing       1668\n",
       "Hospitality & Food Services         1120\n",
       "Utilities                           1082\n",
       "Wholesale Trade                     1049\n",
       "Arts & Entertainment                 632\n",
       "Agriculture                          552\n",
       "Real Estate                          459\n",
       "Mining                               257\n",
       "Name: count, dtype: int64"
      ]
     },
     "execution_count": 12,
     "metadata": {},
     "output_type": "execute_result"
    }
   ],
   "source": [
    "df.industry_job.value_counts()"
   ]
  },
  {
   "cell_type": "code",
   "execution_count": 13,
   "id": "7cdc2820",
   "metadata": {},
   "outputs": [
    {
     "ename": "SyntaxError",
     "evalue": "invalid syntax (4008939058.py, line 1)",
     "output_type": "error",
     "traceback": [
      "\u001b[1;36m  Cell \u001b[1;32mIn[13], line 1\u001b[1;36m\u001b[0m\n\u001b[1;33m    df..value_counts()\u001b[0m\n\u001b[1;37m       ^\u001b[0m\n\u001b[1;31mSyntaxError\u001b[0m\u001b[1;31m:\u001b[0m invalid syntax\n"
     ]
    }
   ],
   "source": [
    "df..value_counts()"
   ]
  },
  {
   "cell_type": "code",
   "execution_count": null,
   "id": "84f1cf30",
   "metadata": {},
   "outputs": [],
   "source": [
    "df..value_counts()"
   ]
  }
 ],
 "metadata": {
  "kernelspec": {
   "display_name": "Python 3 (ipykernel)",
   "language": "python",
   "name": "python3"
  },
  "language_info": {
   "codemirror_mode": {
    "name": "ipython",
    "version": 3
   },
   "file_extension": ".py",
   "mimetype": "text/x-python",
   "name": "python",
   "nbconvert_exporter": "python",
   "pygments_lexer": "ipython3",
   "version": "3.11.5"
  }
 },
 "nbformat": 4,
 "nbformat_minor": 5
}
